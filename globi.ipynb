{
 "cells": [
  {
   "cell_type": "code",
   "execution_count": 1,
   "id": "24bceeb2-59df-4aac-af5f-683f4ba5cd44",
   "metadata": {},
   "outputs": [],
   "source": [
    "import pandas as pd\n",
    "from pathlib import Path\n",
    "import requests\n",
    "import json\n",
    "import time\n",
    "import numpy as np\n",
    "\n",
    "from globi import formatInteractions, fetchGlobi, fetchiNat, add_inat_taxa_data\n"
   ]
  },
  {
   "cell_type": "code",
   "execution_count": 2,
   "id": "e94ce423-987c-4363-bf6f-865a86d82bd8",
   "metadata": {},
   "outputs": [],
   "source": [
    "def log_df(df, nrows=5):\n",
    "    print(df.shape)\n",
    "    return df.head(nrows)"
   ]
  },
  {
   "cell_type": "code",
   "execution_count": 3,
   "id": "554d929d-04e0-4f14-b657-4b7128bf90f8",
   "metadata": {},
   "outputs": [],
   "source": [
    "def print_json(obj):\n",
    "    print(json.dumps(obj,  indent=4))"
   ]
  },
  {
   "cell_type": "code",
   "execution_count": 4,
   "id": "960e38a2-1e82-4daa-aa65-a44474273f6c",
   "metadata": {},
   "outputs": [
    {
     "name": "stdout",
     "output_type": "stream",
     "text": [
      "[]\n"
     ]
    }
   ],
   "source": [
    "raw_data_paths = Path('../data').rglob('taxa_list.csv')\n",
    "data_paths = [str(path) for path in raw_data_paths]\n",
    "print(data_paths)\n",
    "\n",
    "interaction_path = 'outputs/interactions.csv'\n",
    "de_taxa_path = 'outputs/de_taxa_list.csv'\n",
    "globi_taxa_path = 'outputs/interactions_taxa_list.csv'"
   ]
  },
  {
   "cell_type": "markdown",
   "id": "27ba5b19-b93a-409f-bd82-13cdcde646a2",
   "metadata": {},
   "source": [
    "# interactions"
   ]
  },
  {
   "cell_type": "markdown",
   "id": "77934995-e977-46ff-98b3-f3f37d19d6af",
   "metadata": {},
   "source": [
    "## create interactions taxa csv"
   ]
  },
  {
   "cell_type": "code",
   "execution_count": 28,
   "id": "9fafe339-cf2d-41e5-9f3d-63f4c76f866b",
   "metadata": {},
   "outputs": [
    {
     "name": "stdout",
     "output_type": "stream",
     "text": [
      "(7315, 3)\n"
     ]
    },
    {
     "data": {
      "text/html": [
       "<div>\n",
       "<style scoped>\n",
       "    .dataframe tbody tr th:only-of-type {\n",
       "        vertical-align: middle;\n",
       "    }\n",
       "\n",
       "    .dataframe tbody tr th {\n",
       "        vertical-align: top;\n",
       "    }\n",
       "\n",
       "    .dataframe thead th {\n",
       "        text-align: right;\n",
       "    }\n",
       "</style>\n",
       "<table border=\"1\" class=\"dataframe\">\n",
       "  <thead>\n",
       "    <tr style=\"text-align: right;\">\n",
       "      <th></th>\n",
       "      <th>taxon_id</th>\n",
       "      <th>common_name</th>\n",
       "      <th>scientific_name</th>\n",
       "    </tr>\n",
       "  </thead>\n",
       "  <tbody>\n",
       "    <tr>\n",
       "      <th>0</th>\n",
       "      <td>1</td>\n",
       "      <td>Animals</td>\n",
       "      <td>Animalia</td>\n",
       "    </tr>\n",
       "    <tr>\n",
       "      <th>1</th>\n",
       "      <td>47534</td>\n",
       "      <td>Cnidarians</td>\n",
       "      <td>Cnidaria</td>\n",
       "    </tr>\n",
       "    <tr>\n",
       "      <th>2</th>\n",
       "      <td>48921</td>\n",
       "      <td>Hydrozoans</td>\n",
       "      <td>Hydrozoa</td>\n",
       "    </tr>\n",
       "    <tr>\n",
       "      <th>3</th>\n",
       "      <td>152823</td>\n",
       "      <td>Siphonophores</td>\n",
       "      <td>Siphonophorae</td>\n",
       "    </tr>\n",
       "    <tr>\n",
       "      <th>4</th>\n",
       "      <td>117304</td>\n",
       "      <td>Man O' Wars</td>\n",
       "      <td>Physaliidae</td>\n",
       "    </tr>\n",
       "  </tbody>\n",
       "</table>\n",
       "</div>"
      ],
      "text/plain": [
       "  taxon_id    common_name scientific_name\n",
       "0        1        Animals        Animalia\n",
       "1    47534     Cnidarians        Cnidaria\n",
       "2    48921     Hydrozoans        Hydrozoa\n",
       "3   152823  Siphonophores   Siphonophorae\n",
       "4   117304    Man O' Wars     Physaliidae"
      ]
     },
     "execution_count": 28,
     "metadata": {},
     "output_type": "execute_result"
    }
   ],
   "source": [
    "cols = ['scientific_name', 'common_name', 'taxon_id']\n",
    "taxa_df = pd.read_csv(de_taxa_path, dtype=str, usecols=cols)\n",
    "log_df(taxa_df)\n"
   ]
  },
  {
   "cell_type": "code",
   "execution_count": 20,
   "id": "5a9f0f32-fdfd-4620-bc98-3bf3b99aa6aa",
   "metadata": {},
   "outputs": [
    {
     "name": "stdout",
     "output_type": "stream",
     "text": [
      "(7510, 5)\n"
     ]
    },
    {
     "data": {
      "text/html": [
       "<div>\n",
       "<style scoped>\n",
       "    .dataframe tbody tr th:only-of-type {\n",
       "        vertical-align: middle;\n",
       "    }\n",
       "\n",
       "    .dataframe tbody tr th {\n",
       "        vertical-align: top;\n",
       "    }\n",
       "\n",
       "    .dataframe thead th {\n",
       "        text-align: right;\n",
       "    }\n",
       "</style>\n",
       "<table border=\"1\" class=\"dataframe\">\n",
       "  <thead>\n",
       "    <tr style=\"text-align: right;\">\n",
       "      <th></th>\n",
       "      <th>taxon_id</th>\n",
       "      <th>common_name</th>\n",
       "      <th>scientific_name</th>\n",
       "      <th>has_globi</th>\n",
       "      <th>type</th>\n",
       "    </tr>\n",
       "  </thead>\n",
       "  <tbody>\n",
       "    <tr>\n",
       "      <th>0</th>\n",
       "      <td>143452</td>\n",
       "      <td>Lettered Sphinx</td>\n",
       "      <td>Deidamia inscriptum</td>\n",
       "      <td>True</td>\n",
       "      <td>subject</td>\n",
       "    </tr>\n",
       "    <tr>\n",
       "      <th>10</th>\n",
       "      <td>47727</td>\n",
       "      <td>maples</td>\n",
       "      <td>Acer</td>\n",
       "      <td>True</td>\n",
       "      <td>subject</td>\n",
       "    </tr>\n",
       "    <tr>\n",
       "      <th>18</th>\n",
       "      <td>53178</td>\n",
       "      <td>ribwort plantain</td>\n",
       "      <td>Plantago lanceolata</td>\n",
       "      <td>True</td>\n",
       "      <td>subject</td>\n",
       "    </tr>\n",
       "    <tr>\n",
       "      <th>26</th>\n",
       "      <td>60307</td>\n",
       "      <td>Kentucky bluegrass</td>\n",
       "      <td>Poa pratensis</td>\n",
       "      <td>True</td>\n",
       "      <td>subject</td>\n",
       "    </tr>\n",
       "    <tr>\n",
       "      <th>47</th>\n",
       "      <td>47124</td>\n",
       "      <td>dicots</td>\n",
       "      <td>Magnoliopsida</td>\n",
       "      <td>True</td>\n",
       "      <td>subject</td>\n",
       "    </tr>\n",
       "  </tbody>\n",
       "</table>\n",
       "</div>"
      ],
      "text/plain": [
       "   taxon_id         common_name      scientific_name  has_globi     type\n",
       "0    143452     Lettered Sphinx  Deidamia inscriptum       True  subject\n",
       "10    47727              maples                 Acer       True  subject\n",
       "18    53178    ribwort plantain  Plantago lanceolata       True  subject\n",
       "26    60307  Kentucky bluegrass        Poa pratensis       True  subject\n",
       "47    47124              dicots        Magnoliopsida       True  subject"
      ]
     },
     "execution_count": 20,
     "metadata": {},
     "output_type": "execute_result"
    }
   ],
   "source": [
    "cols = ['subject_taxon_id', 'subject_common_name', 'subject_scientific_name']\n",
    "interactions_df = pd.read_csv(interaction_path, dtype=str, usecols=cols)\n",
    "interactions_df.drop_duplicates(inplace=True)\n",
    "\n",
    "interactions_df.rename(columns = {\n",
    "    'subject_taxon_id': 'taxon_id', \n",
    "    'subject_common_name': 'common_name', \n",
    "    'subject_scientific_name': 'scientific_name'\n",
    "}, inplace=True)\n",
    "\n",
    "interactions_df['has_globi'] = True\n",
    "interactions_df['type'] = 'subject'\n",
    "\n",
    "log_df(interactions_df)"
   ]
  },
  {
   "cell_type": "code",
   "execution_count": 29,
   "id": "23b2dacf-5eed-4bdf-baa5-9c323858c28c",
   "metadata": {},
   "outputs": [
    {
     "name": "stdout",
     "output_type": "stream",
     "text": [
      "(7315, 3)\n"
     ]
    },
    {
     "data": {
      "text/html": [
       "<div>\n",
       "<style scoped>\n",
       "    .dataframe tbody tr th:only-of-type {\n",
       "        vertical-align: middle;\n",
       "    }\n",
       "\n",
       "    .dataframe tbody tr th {\n",
       "        vertical-align: top;\n",
       "    }\n",
       "\n",
       "    .dataframe thead th {\n",
       "        text-align: right;\n",
       "    }\n",
       "</style>\n",
       "<table border=\"1\" class=\"dataframe\">\n",
       "  <thead>\n",
       "    <tr style=\"text-align: right;\">\n",
       "      <th></th>\n",
       "      <th>taxon_id</th>\n",
       "      <th>common_name</th>\n",
       "      <th>scientific_name</th>\n",
       "    </tr>\n",
       "  </thead>\n",
       "  <tbody>\n",
       "    <tr>\n",
       "      <th>0</th>\n",
       "      <td>1</td>\n",
       "      <td>Animals</td>\n",
       "      <td>Animalia</td>\n",
       "    </tr>\n",
       "    <tr>\n",
       "      <th>1</th>\n",
       "      <td>47534</td>\n",
       "      <td>Cnidarians</td>\n",
       "      <td>Cnidaria</td>\n",
       "    </tr>\n",
       "    <tr>\n",
       "      <th>2</th>\n",
       "      <td>48921</td>\n",
       "      <td>Hydrozoans</td>\n",
       "      <td>Hydrozoa</td>\n",
       "    </tr>\n",
       "    <tr>\n",
       "      <th>3</th>\n",
       "      <td>152823</td>\n",
       "      <td>Siphonophores</td>\n",
       "      <td>Siphonophorae</td>\n",
       "    </tr>\n",
       "    <tr>\n",
       "      <th>4</th>\n",
       "      <td>117304</td>\n",
       "      <td>Man O' Wars</td>\n",
       "      <td>Physaliidae</td>\n",
       "    </tr>\n",
       "  </tbody>\n",
       "</table>\n",
       "</div>"
      ],
      "text/plain": [
       "  taxon_id    common_name scientific_name\n",
       "0        1        Animals        Animalia\n",
       "1    47534     Cnidarians        Cnidaria\n",
       "2    48921     Hydrozoans        Hydrozoa\n",
       "3   152823  Siphonophores   Siphonophorae\n",
       "4   117304    Man O' Wars     Physaliidae"
      ]
     },
     "execution_count": 29,
     "metadata": {},
     "output_type": "execute_result"
    }
   ],
   "source": [
    "updated_globi_taxa = taxa_df.merge(interactions_df, how=\"left\" )\n",
    "log_df(updated_globi_taxa)"
   ]
  },
  {
   "cell_type": "code",
   "execution_count": 31,
   "id": "5cc51824-3b98-4913-afc4-400ee42eb411",
   "metadata": {},
   "outputs": [],
   "source": [
    "updated_globi_taxa.to_csv(globi_taxa_path, index=False)"
   ]
  },
  {
   "cell_type": "code",
   "execution_count": null,
   "id": "8ec5fb2b-1cf9-4fda-9660-d0e5314ea88c",
   "metadata": {},
   "outputs": [],
   "source": []
  },
  {
   "cell_type": "markdown",
   "id": "bef829be-39cc-4a8d-8b8b-702158970d46",
   "metadata": {},
   "source": [
    "## create interactions"
   ]
  },
  {
   "cell_type": "code",
   "execution_count": 27,
   "id": "17a47f7b-61a0-45cd-862c-8bb770f584ee",
   "metadata": {},
   "outputs": [
    {
     "name": "stdout",
     "output_type": "stream",
     "text": [
      "(7315, 3)\n"
     ]
    },
    {
     "data": {
      "text/html": [
       "<div>\n",
       "<style scoped>\n",
       "    .dataframe tbody tr th:only-of-type {\n",
       "        vertical-align: middle;\n",
       "    }\n",
       "\n",
       "    .dataframe tbody tr th {\n",
       "        vertical-align: top;\n",
       "    }\n",
       "\n",
       "    .dataframe thead th {\n",
       "        text-align: right;\n",
       "    }\n",
       "</style>\n",
       "<table border=\"1\" class=\"dataframe\">\n",
       "  <thead>\n",
       "    <tr style=\"text-align: right;\">\n",
       "      <th></th>\n",
       "      <th>taxon_id</th>\n",
       "      <th>common_name</th>\n",
       "      <th>scientific_name</th>\n",
       "    </tr>\n",
       "  </thead>\n",
       "  <tbody>\n",
       "    <tr>\n",
       "      <th>0</th>\n",
       "      <td>1</td>\n",
       "      <td>Animals</td>\n",
       "      <td>Animalia</td>\n",
       "    </tr>\n",
       "    <tr>\n",
       "      <th>1</th>\n",
       "      <td>47534</td>\n",
       "      <td>Cnidarians</td>\n",
       "      <td>Cnidaria</td>\n",
       "    </tr>\n",
       "    <tr>\n",
       "      <th>2</th>\n",
       "      <td>48921</td>\n",
       "      <td>Hydrozoans</td>\n",
       "      <td>Hydrozoa</td>\n",
       "    </tr>\n",
       "    <tr>\n",
       "      <th>3</th>\n",
       "      <td>152823</td>\n",
       "      <td>Siphonophores</td>\n",
       "      <td>Siphonophorae</td>\n",
       "    </tr>\n",
       "    <tr>\n",
       "      <th>4</th>\n",
       "      <td>117304</td>\n",
       "      <td>Man O' Wars</td>\n",
       "      <td>Physaliidae</td>\n",
       "    </tr>\n",
       "  </tbody>\n",
       "</table>\n",
       "</div>"
      ],
      "text/plain": [
       "  taxon_id    common_name scientific_name\n",
       "0        1        Animals        Animalia\n",
       "1    47534     Cnidarians        Cnidaria\n",
       "2    48921     Hydrozoans        Hydrozoa\n",
       "3   152823  Siphonophores   Siphonophorae\n",
       "4   117304    Man O' Wars     Physaliidae"
      ]
     },
     "execution_count": 27,
     "metadata": {},
     "output_type": "execute_result"
    }
   ],
   "source": [
    "cols = ['scientific_name', 'common_name', 'taxon_id']\n",
    "taxa_df = pd.read_csv(de_taxa_path, dtype=str, usecols=cols)\n",
    "log_df(taxa_df)"
   ]
  },
  {
   "cell_type": "code",
   "execution_count": 38,
   "id": "499fb1c8-9c87-499f-bc70-b02f7a26e856",
   "metadata": {},
   "outputs": [
    {
     "name": "stdout",
     "output_type": "stream",
     "text": [
      "(7315, 4)\n"
     ]
    },
    {
     "data": {
      "text/html": [
       "<div>\n",
       "<style scoped>\n",
       "    .dataframe tbody tr th:only-of-type {\n",
       "        vertical-align: middle;\n",
       "    }\n",
       "\n",
       "    .dataframe tbody tr th {\n",
       "        vertical-align: top;\n",
       "    }\n",
       "\n",
       "    .dataframe thead th {\n",
       "        text-align: right;\n",
       "    }\n",
       "</style>\n",
       "<table border=\"1\" class=\"dataframe\">\n",
       "  <thead>\n",
       "    <tr style=\"text-align: right;\">\n",
       "      <th></th>\n",
       "      <th>taxon_id</th>\n",
       "      <th>common_name</th>\n",
       "      <th>scientific_name</th>\n",
       "      <th>has_globi</th>\n",
       "    </tr>\n",
       "  </thead>\n",
       "  <tbody>\n",
       "    <tr>\n",
       "      <th>0</th>\n",
       "      <td>1</td>\n",
       "      <td>Animals</td>\n",
       "      <td>Animalia</td>\n",
       "      <td>NaN</td>\n",
       "    </tr>\n",
       "    <tr>\n",
       "      <th>1</th>\n",
       "      <td>47534</td>\n",
       "      <td>Cnidarians</td>\n",
       "      <td>Cnidaria</td>\n",
       "      <td>NaN</td>\n",
       "    </tr>\n",
       "    <tr>\n",
       "      <th>2</th>\n",
       "      <td>48921</td>\n",
       "      <td>Hydrozoans</td>\n",
       "      <td>Hydrozoa</td>\n",
       "      <td>NaN</td>\n",
       "    </tr>\n",
       "    <tr>\n",
       "      <th>3</th>\n",
       "      <td>152823</td>\n",
       "      <td>Siphonophores</td>\n",
       "      <td>Siphonophorae</td>\n",
       "      <td>NaN</td>\n",
       "    </tr>\n",
       "    <tr>\n",
       "      <th>4</th>\n",
       "      <td>117304</td>\n",
       "      <td>Man O' Wars</td>\n",
       "      <td>Physaliidae</td>\n",
       "      <td>NaN</td>\n",
       "    </tr>\n",
       "  </tbody>\n",
       "</table>\n",
       "</div>"
      ],
      "text/plain": [
       "  taxon_id    common_name scientific_name has_globi\n",
       "0        1        Animals        Animalia       NaN\n",
       "1    47534     Cnidarians        Cnidaria       NaN\n",
       "2    48921     Hydrozoans        Hydrozoa       NaN\n",
       "3   152823  Siphonophores   Siphonophorae       NaN\n",
       "4   117304    Man O' Wars     Physaliidae       NaN"
      ]
     },
     "execution_count": 38,
     "metadata": {},
     "output_type": "execute_result"
    }
   ],
   "source": [
    "globi_taxa_df = pd.read_csv(globi_taxa_path, dtype=str)\n",
    "globi_taxa_df = globi_taxa_df[globi_taxa_df['has_globi'].isna()]\n",
    "log_df(globi_taxa_df)"
   ]
  },
  {
   "cell_type": "code",
   "execution_count": 39,
   "id": "b525e45a-40b2-4e60-938c-939a44043357",
   "metadata": {},
   "outputs": [
    {
     "name": "stdout",
     "output_type": "stream",
     "text": [
      "(0, 7)\n"
     ]
    },
    {
     "data": {
      "text/html": [
       "<div>\n",
       "<style scoped>\n",
       "    .dataframe tbody tr th:only-of-type {\n",
       "        vertical-align: middle;\n",
       "    }\n",
       "\n",
       "    .dataframe tbody tr th {\n",
       "        vertical-align: top;\n",
       "    }\n",
       "\n",
       "    .dataframe thead th {\n",
       "        text-align: right;\n",
       "    }\n",
       "</style>\n",
       "<table border=\"1\" class=\"dataframe\">\n",
       "  <thead>\n",
       "    <tr style=\"text-align: right;\">\n",
       "      <th></th>\n",
       "      <th>subject_taxon_id</th>\n",
       "      <th>subject_common_name</th>\n",
       "      <th>subject_scientific_name</th>\n",
       "      <th>target_scientific_name</th>\n",
       "      <th>target_common_name</th>\n",
       "      <th>target_taxon_id</th>\n",
       "      <th>interaction</th>\n",
       "    </tr>\n",
       "  </thead>\n",
       "  <tbody>\n",
       "  </tbody>\n",
       "</table>\n",
       "</div>"
      ],
      "text/plain": [
       "Empty DataFrame\n",
       "Columns: [subject_taxon_id, subject_common_name, subject_scientific_name, target_scientific_name, target_common_name, target_taxon_id, interaction]\n",
       "Index: []"
      ]
     },
     "execution_count": 39,
     "metadata": {},
     "output_type": "execute_result"
    }
   ],
   "source": [
    "interaction_path = 'outputs/interactions.csv'\n",
    "interaction_df = pd.read_csv(interaction_path, dtype=str)\n",
    "log_df(interaction_df)"
   ]
  },
  {
   "cell_type": "code",
   "execution_count": 40,
   "id": "0038c66f-73c4-46b1-80de-2b4036ddbcfb",
   "metadata": {},
   "outputs": [
    {
     "name": "stdout",
     "output_type": "stream",
     "text": [
      "0 50 100 150 200 250 300 350 400 450 500 550 600 650 700 750 800 850 900 950 1000 1050 1100 1150 1200 1250 1300 1350 1400 1450 1500 1550 1600 1650 1700 1750 1800 1850 1900 1950 2000 2050 2100 2150 2200 2250 2300 2350 2400 2450 2500 2550 2600 2650 2700 2750 2800 2850 2900 2950 3000 3050 3100 3150 3200 3250 3300 3350 3400 3450 3500 3550 3600 3650 3700 3750 3800 3850 3900 3950 4000 4050 4100 4150 4200 4250 4300 4350 4400 4450 4500 4550 4600 4650 4700 4750 4800 4850 4900 4950 5000 5050 5100 5150 5200 5250 5300 5350 5400 5450 5500 5550 5600 5650 5700 5750 5800 5850 5900 5950 6000 6050 6100 6150 6200 6250 6300 6350 6400 6450 6500 6550 6600 6650 6700 6750 6800 6850 6900 6950 7000 7050 7100 7150 7200 7250 7300 "
     ]
    }
   ],
   "source": [
    "interaction_data = []\n",
    "count = 0\n",
    "for index, row in globi_taxa_df.iterrows():\n",
    "    if count % 50 == 0:\n",
    "        print(count, end=' ')\n",
    "        \n",
    "    for interaction in ['eats', 'eatenBy', 'pollinates', 'pollinatedBy', 'preysOn', 'preyedUponBy']:\n",
    "        results = formatInteractions(taxa_df, row, interaction, 100)\n",
    "        if results:\n",
    "            interaction_data += results\n",
    "            \n",
    "    count += 1\n",
    "            \n"
   ]
  },
  {
   "cell_type": "code",
   "execution_count": 41,
   "id": "5514a638-332b-4fbb-b7f0-e9234ae36c66",
   "metadata": {},
   "outputs": [
    {
     "name": "stdout",
     "output_type": "stream",
     "text": [
      "(165994, 7)\n"
     ]
    },
    {
     "data": {
      "text/html": [
       "<div>\n",
       "<style scoped>\n",
       "    .dataframe tbody tr th:only-of-type {\n",
       "        vertical-align: middle;\n",
       "    }\n",
       "\n",
       "    .dataframe tbody tr th {\n",
       "        vertical-align: top;\n",
       "    }\n",
       "\n",
       "    .dataframe thead th {\n",
       "        text-align: right;\n",
       "    }\n",
       "</style>\n",
       "<table border=\"1\" class=\"dataframe\">\n",
       "  <thead>\n",
       "    <tr style=\"text-align: right;\">\n",
       "      <th></th>\n",
       "      <th>subject_taxon_id</th>\n",
       "      <th>subject_common_name</th>\n",
       "      <th>subject_scientific_name</th>\n",
       "      <th>target_scientific_name</th>\n",
       "      <th>target_common_name</th>\n",
       "      <th>target_taxon_id</th>\n",
       "      <th>interaction</th>\n",
       "    </tr>\n",
       "  </thead>\n",
       "  <tbody>\n",
       "    <tr>\n",
       "      <th>0</th>\n",
       "      <td>1</td>\n",
       "      <td>Animals</td>\n",
       "      <td>Animalia</td>\n",
       "      <td>Insecta</td>\n",
       "      <td>Insects</td>\n",
       "      <td>47158</td>\n",
       "      <td>eats</td>\n",
       "    </tr>\n",
       "    <tr>\n",
       "      <th>1</th>\n",
       "      <td>1</td>\n",
       "      <td>Animals</td>\n",
       "      <td>Animalia</td>\n",
       "      <td>Bacteria</td>\n",
       "      <td>bacteria</td>\n",
       "      <td>67333</td>\n",
       "      <td>eats</td>\n",
       "    </tr>\n",
       "    <tr>\n",
       "      <th>2</th>\n",
       "      <td>1</td>\n",
       "      <td>Animals</td>\n",
       "      <td>Animalia</td>\n",
       "      <td>Bacillariophyceae</td>\n",
       "      <td>Diatoms</td>\n",
       "      <td>123880</td>\n",
       "      <td>eats</td>\n",
       "    </tr>\n",
       "    <tr>\n",
       "      <th>3</th>\n",
       "      <td>1</td>\n",
       "      <td>Animals</td>\n",
       "      <td>Animalia</td>\n",
       "      <td>Animalia</td>\n",
       "      <td>Animals</td>\n",
       "      <td>1</td>\n",
       "      <td>eats</td>\n",
       "    </tr>\n",
       "    <tr>\n",
       "      <th>4</th>\n",
       "      <td>1</td>\n",
       "      <td>Animals</td>\n",
       "      <td>Animalia</td>\n",
       "      <td>Mysidae</td>\n",
       "      <td>NaN</td>\n",
       "      <td>85912</td>\n",
       "      <td>eats</td>\n",
       "    </tr>\n",
       "  </tbody>\n",
       "</table>\n",
       "</div>"
      ],
      "text/plain": [
       "  subject_taxon_id subject_common_name subject_scientific_name  \\\n",
       "0                1             Animals                Animalia   \n",
       "1                1             Animals                Animalia   \n",
       "2                1             Animals                Animalia   \n",
       "3                1             Animals                Animalia   \n",
       "4                1             Animals                Animalia   \n",
       "\n",
       "  target_scientific_name target_common_name target_taxon_id interaction  \n",
       "0                Insecta            Insects           47158        eats  \n",
       "1               Bacteria           bacteria           67333        eats  \n",
       "2      Bacillariophyceae            Diatoms          123880        eats  \n",
       "3               Animalia            Animals               1        eats  \n",
       "4                Mysidae                NaN           85912        eats  "
      ]
     },
     "execution_count": 41,
     "metadata": {},
     "output_type": "execute_result"
    }
   ],
   "source": [
    "new_interactions = pd.DataFrame(interaction_data)\n",
    "interaction_df = interaction_df.append(new_interactions)\n",
    "log_df(interaction_df)"
   ]
  },
  {
   "cell_type": "markdown",
   "id": "79b51d52-943c-458d-bfba-35fd9caf25f6",
   "metadata": {},
   "source": [
    "create interactions csv"
   ]
  },
  {
   "cell_type": "code",
   "execution_count": 42,
   "id": "3fec9a82-b389-4bae-bf0e-3619f3d36d9a",
   "metadata": {},
   "outputs": [],
   "source": [
    "interaction_df.to_csv(interaction_path, index=False)\n"
   ]
  },
  {
   "cell_type": "markdown",
   "id": "2234b86c-a85a-41bb-a69b-9cebf7e025f7",
   "metadata": {},
   "source": [
    "### add inat common name and taxon id to Globi scientific names"
   ]
  },
  {
   "cell_type": "code",
   "execution_count": 36,
   "id": "6cc92bd2-6a3f-4520-a7a9-49d87b68a5ce",
   "metadata": {},
   "outputs": [
    {
     "name": "stdout",
     "output_type": "stream",
     "text": [
      "(165994, 8)\n"
     ]
    },
    {
     "data": {
      "text/html": [
       "<div>\n",
       "<style scoped>\n",
       "    .dataframe tbody tr th:only-of-type {\n",
       "        vertical-align: middle;\n",
       "    }\n",
       "\n",
       "    .dataframe tbody tr th {\n",
       "        vertical-align: top;\n",
       "    }\n",
       "\n",
       "    .dataframe thead th {\n",
       "        text-align: right;\n",
       "    }\n",
       "</style>\n",
       "<table border=\"1\" class=\"dataframe\">\n",
       "  <thead>\n",
       "    <tr style=\"text-align: right;\">\n",
       "      <th></th>\n",
       "      <th>subject_taxon_id</th>\n",
       "      <th>subject_common_name</th>\n",
       "      <th>subject_scientific_name</th>\n",
       "      <th>target_scientific_name</th>\n",
       "      <th>target_common_name</th>\n",
       "      <th>target_taxon_id</th>\n",
       "      <th>interaction</th>\n",
       "      <th>search_inat_taxa</th>\n",
       "    </tr>\n",
       "  </thead>\n",
       "  <tbody>\n",
       "    <tr>\n",
       "      <th>0</th>\n",
       "      <td>1</td>\n",
       "      <td>Animals</td>\n",
       "      <td>Animalia</td>\n",
       "      <td>Insecta</td>\n",
       "      <td>Insects</td>\n",
       "      <td>47158</td>\n",
       "      <td>eats</td>\n",
       "      <td>NaN</td>\n",
       "    </tr>\n",
       "    <tr>\n",
       "      <th>1</th>\n",
       "      <td>1</td>\n",
       "      <td>Animals</td>\n",
       "      <td>Animalia</td>\n",
       "      <td>Bacteria</td>\n",
       "      <td>bacteria</td>\n",
       "      <td>67333</td>\n",
       "      <td>eats</td>\n",
       "      <td>NaN</td>\n",
       "    </tr>\n",
       "    <tr>\n",
       "      <th>2</th>\n",
       "      <td>1</td>\n",
       "      <td>Animals</td>\n",
       "      <td>Animalia</td>\n",
       "      <td>Bacillariophyceae</td>\n",
       "      <td>Diatoms</td>\n",
       "      <td>123880</td>\n",
       "      <td>eats</td>\n",
       "      <td>NaN</td>\n",
       "    </tr>\n",
       "    <tr>\n",
       "      <th>3</th>\n",
       "      <td>1</td>\n",
       "      <td>Animals</td>\n",
       "      <td>Animalia</td>\n",
       "      <td>Animalia</td>\n",
       "      <td>Animals</td>\n",
       "      <td>1</td>\n",
       "      <td>eats</td>\n",
       "      <td>NaN</td>\n",
       "    </tr>\n",
       "    <tr>\n",
       "      <th>4</th>\n",
       "      <td>1</td>\n",
       "      <td>Animals</td>\n",
       "      <td>Animalia</td>\n",
       "      <td>Mysidae</td>\n",
       "      <td>NaN</td>\n",
       "      <td>85912</td>\n",
       "      <td>eats</td>\n",
       "      <td>NaN</td>\n",
       "    </tr>\n",
       "  </tbody>\n",
       "</table>\n",
       "</div>"
      ],
      "text/plain": [
       "  subject_taxon_id subject_common_name subject_scientific_name  \\\n",
       "0                1             Animals                Animalia   \n",
       "1                1             Animals                Animalia   \n",
       "2                1             Animals                Animalia   \n",
       "3                1             Animals                Animalia   \n",
       "4                1             Animals                Animalia   \n",
       "\n",
       "  target_scientific_name target_common_name target_taxon_id interaction  \\\n",
       "0                Insecta            Insects           47158        eats   \n",
       "1               Bacteria           bacteria           67333        eats   \n",
       "2      Bacillariophyceae            Diatoms          123880        eats   \n",
       "3               Animalia            Animals               1        eats   \n",
       "4                Mysidae                NaN           85912        eats   \n",
       "\n",
       "  search_inat_taxa  \n",
       "0              NaN  \n",
       "1              NaN  \n",
       "2              NaN  \n",
       "3              NaN  \n",
       "4              NaN  "
      ]
     },
     "execution_count": 36,
     "metadata": {},
     "output_type": "execute_result"
    }
   ],
   "source": [
    "interaction_df = pd.read_csv(interaction_path, dtype=str)\n",
    "log_df(interaction_df)"
   ]
  },
  {
   "cell_type": "code",
   "execution_count": 37,
   "id": "139cc629-4312-4d30-92a4-b25f92341924",
   "metadata": {},
   "outputs": [
    {
     "name": "stdout",
     "output_type": "stream",
     "text": [
      "(17761, 8)\n"
     ]
    },
    {
     "data": {
      "text/html": [
       "<div>\n",
       "<style scoped>\n",
       "    .dataframe tbody tr th:only-of-type {\n",
       "        vertical-align: middle;\n",
       "    }\n",
       "\n",
       "    .dataframe tbody tr th {\n",
       "        vertical-align: top;\n",
       "    }\n",
       "\n",
       "    .dataframe thead th {\n",
       "        text-align: right;\n",
       "    }\n",
       "</style>\n",
       "<table border=\"1\" class=\"dataframe\">\n",
       "  <thead>\n",
       "    <tr style=\"text-align: right;\">\n",
       "      <th></th>\n",
       "      <th>subject_taxon_id</th>\n",
       "      <th>subject_common_name</th>\n",
       "      <th>subject_scientific_name</th>\n",
       "      <th>target_scientific_name</th>\n",
       "      <th>target_common_name</th>\n",
       "      <th>target_taxon_id</th>\n",
       "      <th>interaction</th>\n",
       "      <th>search_inat_taxa</th>\n",
       "    </tr>\n",
       "  </thead>\n",
       "  <tbody>\n",
       "    <tr>\n",
       "      <th>88776</th>\n",
       "      <td>21359</td>\n",
       "      <td>True Toads</td>\n",
       "      <td>Bufonidae</td>\n",
       "      <td>Euspilotus</td>\n",
       "      <td>NaN</td>\n",
       "      <td>NaN</td>\n",
       "      <td>eatenBy</td>\n",
       "      <td>NaN</td>\n",
       "    </tr>\n",
       "    <tr>\n",
       "      <th>88780</th>\n",
       "      <td>21359</td>\n",
       "      <td>True Toads</td>\n",
       "      <td>Bufonidae</td>\n",
       "      <td>Thamnophis sirtalis fitchi</td>\n",
       "      <td>NaN</td>\n",
       "      <td>NaN</td>\n",
       "      <td>eatenBy</td>\n",
       "      <td>NaN</td>\n",
       "    </tr>\n",
       "    <tr>\n",
       "      <th>88791</th>\n",
       "      <td>21359</td>\n",
       "      <td>True Toads</td>\n",
       "      <td>Bufonidae</td>\n",
       "      <td>Causus rhombeatus</td>\n",
       "      <td>NaN</td>\n",
       "      <td>NaN</td>\n",
       "      <td>preyedUponBy</td>\n",
       "      <td>NaN</td>\n",
       "    </tr>\n",
       "    <tr>\n",
       "      <th>88793</th>\n",
       "      <td>21359</td>\n",
       "      <td>True Toads</td>\n",
       "      <td>Bufonidae</td>\n",
       "      <td>Causus maculatus</td>\n",
       "      <td>NaN</td>\n",
       "      <td>NaN</td>\n",
       "      <td>preyedUponBy</td>\n",
       "      <td>NaN</td>\n",
       "    </tr>\n",
       "    <tr>\n",
       "      <th>88797</th>\n",
       "      <td>21359</td>\n",
       "      <td>True Toads</td>\n",
       "      <td>Bufonidae</td>\n",
       "      <td>Causus resimus</td>\n",
       "      <td>NaN</td>\n",
       "      <td>NaN</td>\n",
       "      <td>preyedUponBy</td>\n",
       "      <td>NaN</td>\n",
       "    </tr>\n",
       "  </tbody>\n",
       "</table>\n",
       "</div>"
      ],
      "text/plain": [
       "      subject_taxon_id subject_common_name subject_scientific_name  \\\n",
       "88776            21359          True Toads               Bufonidae   \n",
       "88780            21359          True Toads               Bufonidae   \n",
       "88791            21359          True Toads               Bufonidae   \n",
       "88793            21359          True Toads               Bufonidae   \n",
       "88797            21359          True Toads               Bufonidae   \n",
       "\n",
       "           target_scientific_name target_common_name target_taxon_id  \\\n",
       "88776                  Euspilotus                NaN             NaN   \n",
       "88780  Thamnophis sirtalis fitchi                NaN             NaN   \n",
       "88791           Causus rhombeatus                NaN             NaN   \n",
       "88793            Causus maculatus                NaN             NaN   \n",
       "88797              Causus resimus                NaN             NaN   \n",
       "\n",
       "        interaction search_inat_taxa  \n",
       "88776       eatenBy              NaN  \n",
       "88780       eatenBy              NaN  \n",
       "88791  preyedUponBy              NaN  \n",
       "88793  preyedUponBy              NaN  \n",
       "88797  preyedUponBy              NaN  "
      ]
     },
     "execution_count": 37,
     "metadata": {},
     "output_type": "execute_result"
    }
   ],
   "source": [
    "blank_df = interaction_df[interaction_df['target_taxon_id'].isna()].copy()\n",
    "blank_df = blank_df[blank_df['search_inat_taxa'] != 'True']\n",
    "blank_df.dropna(subset=['target_scientific_name'], inplace=True)\n",
    "log_df(blank_df)"
   ]
  },
  {
   "cell_type": "code",
   "execution_count": 38,
   "id": "e110ed10-6f07-49cb-9804-d31dd37f4150",
   "metadata": {},
   "outputs": [
    {
     "data": {
      "text/plain": [
       "12063"
      ]
     },
     "execution_count": 38,
     "metadata": {},
     "output_type": "execute_result"
    }
   ],
   "source": [
    "names = blank_df['target_scientific_name'].unique()\n",
    "len(names)"
   ]
  },
  {
   "cell_type": "code",
   "execution_count": null,
   "id": "29a74bfc-a8f2-46a7-a29e-4c85141c78e7",
   "metadata": {},
   "outputs": [
    {
     "name": "stdout",
     "output_type": "stream",
     "text": [
      "0 100 200 300 400 500 600 700 800 900 1000 1100 1200 1300 1400 1500 1600 1700 1800 1900 2000 2100 2200 2300 2400 2500 2600 2700 2800 2900 3000 3100 3200 3300 3400 3500 "
     ]
    }
   ],
   "source": [
    "for index, name in enumerate(names):\n",
    "    if index % 100 == 0:\n",
    "        print(index, end=' ')\n",
    "        \n",
    "    results = fetchiNat(name)\n",
    "    interaction_df.loc[interaction_df['target_scientific_name'] == name, 'search_inat_taxa'] = True\n",
    "    if results:\n",
    "        add_inat_taxa_data(interaction_df, results)\n",
    "        \n",
    "    "
   ]
  },
  {
   "cell_type": "code",
   "execution_count": null,
   "id": "9071d660-579c-40db-a67c-4d30a6598031",
   "metadata": {},
   "outputs": [],
   "source": [
    "interaction_df.to_csv(interaction_path, index=False)\n"
   ]
  },
  {
   "cell_type": "code",
   "execution_count": null,
   "id": "003556de-c13b-4ce4-871b-518aa5bf299d",
   "metadata": {},
   "outputs": [],
   "source": []
  },
  {
   "cell_type": "code",
   "execution_count": null,
   "id": "676f08a3-dece-45a7-99ea-f53f6afc9202",
   "metadata": {},
   "outputs": [],
   "source": []
  },
  {
   "cell_type": "code",
   "execution_count": null,
   "id": "59d53dff-8a51-4072-b7ba-67da839f38c0",
   "metadata": {},
   "outputs": [],
   "source": []
  },
  {
   "cell_type": "markdown",
   "id": "11da65a6-757f-4256-b774-ff5c136692e4",
   "metadata": {},
   "source": [
    "create interactions json"
   ]
  },
  {
   "cell_type": "code",
   "execution_count": 10,
   "id": "abb80457-46c0-424c-a5a2-6d3baa691480",
   "metadata": {},
   "outputs": [],
   "source": [
    "\n",
    "path = '../app/src/lib/data/interactions.csv'\n",
    "interaction_df.to_csv(path, index = False)"
   ]
  },
  {
   "cell_type": "code",
   "execution_count": null,
   "id": "5e5f283f-8b89-4517-94a5-9c968677ed3a",
   "metadata": {},
   "outputs": [],
   "source": []
  },
  {
   "cell_type": "code",
   "execution_count": null,
   "id": "3af61716-f5bb-4463-a025-656d273b75d8",
   "metadata": {},
   "outputs": [],
   "source": []
  }
 ],
 "metadata": {
  "kernelspec": {
   "display_name": "Python 3",
   "language": "python",
   "name": "python3"
  },
  "language_info": {
   "codemirror_mode": {
    "name": "ipython",
    "version": 3
   },
   "file_extension": ".py",
   "mimetype": "text/x-python",
   "name": "python",
   "nbconvert_exporter": "python",
   "pygments_lexer": "ipython3",
   "version": "3.8.2"
  }
 },
 "nbformat": 4,
 "nbformat_minor": 5
}
