{
 "cells": [
  {
   "cell_type": "code",
   "execution_count": 32,
   "id": "049c7f4f-079d-4d77-abf9-ec43e2a88aec",
   "metadata": {},
   "outputs": [],
   "source": [
    "import pandas as pd\n",
    "from pathlib import Path\n",
    "import requests\n",
    "import json\n",
    "import numpy as np\n",
    "import geopandas as gpd\n",
    "import random\n",
    "\n",
    "from process_inat_data import format_inat_data\n",
    "from create_normalized_taxa import (\n",
    "     create_taxa_df,   all_ranks, get_row_ranks,\n",
    "    main_ranks, create_taxon, add_count_column, \n",
    "    create_taxa_la_df,\n",
    "    create_taxa_gosea_df\n",
    ")"
   ]
  },
  {
   "cell_type": "code",
   "execution_count": 18,
   "id": "ed737f32-64b1-4714-b633-e24ba3eb2d66",
   "metadata": {},
   "outputs": [
    {
     "data": {
      "text/plain": [
       "[PosixPath('../app/src/lib/data/cedar-creek-reserve/map_layers/NativePlantCommunities_CedarCreek.geojson'),\n",
       " PosixPath('../app/src/lib/data/cedar-creek-reserve/map_layers/Soil_Types_CedarCreek.geojson'),\n",
       " PosixPath('../app/src/lib/data/los-angeles-bioblitz/map_layers/City_Boundary.geojson')]"
      ]
     },
     "execution_count": 18,
     "metadata": {},
     "output_type": "execute_result"
    }
   ],
   "source": [
    "raw_data_paths = Path('../app/src/lib/data').rglob('*.geojson')\n",
    "list(raw_data_paths)"
   ]
  },
  {
   "cell_type": "markdown",
   "id": "456e6f5c-84c0-4158-9c52-0caeba904791",
   "metadata": {},
   "source": [
    "# cedar creek geojson"
   ]
  },
  {
   "cell_type": "markdown",
   "id": "6213bcaa-d266-44cf-b80f-0f16d0bfb407",
   "metadata": {},
   "source": [
    "## native plants"
   ]
  },
  {
   "cell_type": "code",
   "execution_count": 33,
   "id": "660978d8-8a9d-4496-aa0d-15a829f8f29b",
   "metadata": {},
   "outputs": [],
   "source": [
    "path = Path('../app/src/lib/data/cedar-creek-reserve/map_layers/NativePlantCommunities_CedarCreek.geojson')\n",
    "\n",
    "df = gpd.read_file(path)\n"
   ]
  },
  {
   "cell_type": "code",
   "execution_count": 34,
   "id": "e6334ce8-9f1b-494d-908d-a3b5e7b32db9",
   "metadata": {},
   "outputs": [
    {
     "name": "stdout",
     "output_type": "stream",
     "text": [
      "Index(['FID', 'OBJECTID', 'COUNTY', 'SITE', 'NCCODE', 'COMPLEX1', 'SYSTEM',\n",
      "       'FLOR_REG', 'CLASS', 'TYPE', 'SUBTYPE', 'NCCODE2', 'COMPLEX2', 'NPC',\n",
      "       'ENAME', 'LABEL', 'STATUS', 'Mcbsnpcid', 'op_date', 'lu_date', 'sjoin',\n",
      "       'SHAPE_Leng', 'SHAPE_Area', 'geometry'],\n",
      "      dtype='object')\n"
     ]
    }
   ],
   "source": [
    "print(df.columns)"
   ]
  },
  {
   "cell_type": "code",
   "execution_count": 39,
   "id": "25193b10-c3f6-4410-a1f6-31b08f82ff9a",
   "metadata": {},
   "outputs": [],
   "source": [
    "df['ENAME_display'] = df['ENAME'].str.title()"
   ]
  },
  {
   "cell_type": "code",
   "execution_count": 56,
   "id": "bba9083d-aa3d-4b04-aeeb-4a7b42a30441",
   "metadata": {},
   "outputs": [],
   "source": [
    "# https://stackoverflow.com/questions/28999287/generate-random-colors-rgb\n",
    "\n",
    "for value in df['ENAME'].unique():\n",
    "    color = \"#\"+''.join([random.choice('0123456789ABCDEF') for j in range(6)])\n",
    "\n",
    "    df.loc[df['ENAME'] == value, 'color'] = color"
   ]
  },
  {
   "cell_type": "code",
   "execution_count": 59,
   "id": "50a476e1-5f56-4b50-b33d-a19cc98896ff",
   "metadata": {},
   "outputs": [],
   "source": [
    "df.to_file(path, driver='GeoJSON')\n"
   ]
  },
  {
   "cell_type": "markdown",
   "id": "1c19ed0b-f6a9-450e-b61f-1a1e60860d5d",
   "metadata": {},
   "source": [
    "## soil"
   ]
  },
  {
   "cell_type": "code",
   "execution_count": 60,
   "id": "9c5b23f9-ec2d-42cb-a4c5-33a3c9be3be7",
   "metadata": {},
   "outputs": [],
   "source": [
    "path = Path('../app/src/lib/data/cedar-creek-reserve/map_layers/Soil_Types_CedarCreek.geojson')\n",
    "\n",
    "df = gpd.read_file(path)"
   ]
  },
  {
   "cell_type": "code",
   "execution_count": 61,
   "id": "68d349ab-a034-4f0b-9dab-a9a4a33da0b7",
   "metadata": {},
   "outputs": [
    {
     "name": "stdout",
     "output_type": "stream",
     "text": [
      "Index(['FID', 'AREA', 'PERIMETER', 'SOILS2_', 'SOILS2_ID', 'SOILKEY',\n",
      "       'TEXTURE', 'ROUGH', 'DRAIN', 'CLASS', 'MAJOR1', 'MINOR1', 'SOIL_TYPES',\n",
      "       'geometry'],\n",
      "      dtype='object')\n"
     ]
    }
   ],
   "source": [
    "print(df.columns)"
   ]
  },
  {
   "cell_type": "code",
   "execution_count": 62,
   "id": "1ef71cf8-32e9-490c-afa3-015f939f369a",
   "metadata": {},
   "outputs": [],
   "source": [
    "for value in df['SOILKEY'].unique():\n",
    "    color = \"#\"+''.join([random.choice('0123456789ABCDEF') for j in range(6)])\n",
    "\n",
    "    df.loc[df['SOILKEY'] == value, 'color'] = color"
   ]
  },
  {
   "cell_type": "code",
   "execution_count": 63,
   "id": "a6f5acb1-7aff-40bc-81b6-99ff6ae76d2b",
   "metadata": {},
   "outputs": [],
   "source": [
    "df.to_file(path, driver='GeoJSON')\n"
   ]
  },
  {
   "cell_type": "code",
   "execution_count": null,
   "id": "3daa207a-2633-46e5-9ec6-9fa55a8232f8",
   "metadata": {},
   "outputs": [],
   "source": []
  }
 ],
 "metadata": {
  "kernelspec": {
   "display_name": "Python 3",
   "language": "python",
   "name": "python3"
  },
  "language_info": {
   "codemirror_mode": {
    "name": "ipython",
    "version": 3
   },
   "file_extension": ".py",
   "mimetype": "text/x-python",
   "name": "python",
   "nbconvert_exporter": "python",
   "pygments_lexer": "ipython3",
   "version": "3.8.2"
  }
 },
 "nbformat": 4,
 "nbformat_minor": 5
}
