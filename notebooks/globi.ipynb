{
 "cells": [
  {
   "cell_type": "code",
   "execution_count": 1,
   "id": "24bceeb2-59df-4aac-af5f-683f4ba5cd44",
   "metadata": {},
   "outputs": [],
   "source": [
    "import pandas as pd\n",
    "from pathlib import Path\n",
    "import requests\n",
    "import json\n",
    "import time\n",
    "import numpy as np"
   ]
  },
  {
   "cell_type": "code",
   "execution_count": 2,
   "id": "e94ce423-987c-4363-bf6f-865a86d82bd8",
   "metadata": {},
   "outputs": [],
   "source": [
    "def log_df(df, nrows=5):\n",
    "    print(df.shape)\n",
    "    return df.head(nrows)"
   ]
  },
  {
   "cell_type": "code",
   "execution_count": 3,
   "id": "554d929d-04e0-4f14-b657-4b7128bf90f8",
   "metadata": {},
   "outputs": [],
   "source": [
    "def print_json(obj):\n",
    "    print(json.dumps(obj,  indent=4))"
   ]
  },
  {
   "cell_type": "code",
   "execution_count": 4,
   "id": "960e38a2-1e82-4daa-aa65-a44474273f6c",
   "metadata": {},
   "outputs": [
    {
     "name": "stdout",
     "output_type": "stream",
     "text": [
      "['../data/clarkstown-high-school-north/taxa_list.csv', '../data/cedar-creek-reserve/taxa_list.csv', '../data/los-angeles-bioblitz/taxa_list.csv', '../data/ciencia-ciudadana-peru-bats/taxa_list.csv', '../data/ciencia-ciudadana-peru-bees/taxa_list.csv']\n"
     ]
    }
   ],
   "source": [
    "raw_data_paths = Path('../data').rglob('taxa_list.csv')\n",
    "data_paths = [str(path) for path in raw_data_paths]\n",
    "print(data_paths)"
   ]
  },
  {
   "cell_type": "markdown",
   "id": "27ba5b19-b93a-409f-bd82-13cdcde646a2",
   "metadata": {},
   "source": [
    "# interactions"
   ]
  },
  {
   "cell_type": "markdown",
   "id": "77934995-e977-46ff-98b3-f3f37d19d6af",
   "metadata": {},
   "source": [
    "## create interactions taxa csv"
   ]
  },
  {
   "cell_type": "code",
   "execution_count": 351,
   "id": "9fafe339-cf2d-41e5-9f3d-63f4c76f866b",
   "metadata": {},
   "outputs": [],
   "source": [
    "cols = ['scientific_name', 'taxon_id', 'common_name']\n",
    "taxa_df = pd.read_csv('outputs/combine_taxa_list.csv', dtype=str, usecols=cols)\n",
    "taxa_df.to_csv('outputs/interactions_taxa_list.csv', index=False)"
   ]
  },
  {
   "cell_type": "markdown",
   "id": "bef829be-39cc-4a8d-8b8b-702158970d46",
   "metadata": {},
   "source": [
    "## create interactions"
   ]
  },
  {
   "cell_type": "code",
   "execution_count": 375,
   "id": "684352d2-f764-4e8d-adbc-9bab6d546569",
   "metadata": {},
   "outputs": [
    {
     "name": "stdout",
     "output_type": "stream",
     "text": [
      "(9406, 3)\n"
     ]
    },
    {
     "data": {
      "text/html": [
       "<div>\n",
       "<style scoped>\n",
       "    .dataframe tbody tr th:only-of-type {\n",
       "        vertical-align: middle;\n",
       "    }\n",
       "\n",
       "    .dataframe tbody tr th {\n",
       "        vertical-align: top;\n",
       "    }\n",
       "\n",
       "    .dataframe thead th {\n",
       "        text-align: right;\n",
       "    }\n",
       "</style>\n",
       "<table border=\"1\" class=\"dataframe\">\n",
       "  <thead>\n",
       "    <tr style=\"text-align: right;\">\n",
       "      <th></th>\n",
       "      <th>scientific_name</th>\n",
       "      <th>common_name</th>\n",
       "      <th>taxon_id</th>\n",
       "    </tr>\n",
       "  </thead>\n",
       "  <tbody>\n",
       "    <tr>\n",
       "      <th>0</th>\n",
       "      <td>Deidamia inscriptum</td>\n",
       "      <td>Lettered Sphinx</td>\n",
       "      <td>143452</td>\n",
       "    </tr>\n",
       "    <tr>\n",
       "      <th>1</th>\n",
       "      <td>Acer</td>\n",
       "      <td>maples</td>\n",
       "      <td>47727</td>\n",
       "    </tr>\n",
       "    <tr>\n",
       "      <th>2</th>\n",
       "      <td>Plantago lanceolata</td>\n",
       "      <td>ribwort plantain</td>\n",
       "      <td>53178</td>\n",
       "    </tr>\n",
       "    <tr>\n",
       "      <th>3</th>\n",
       "      <td>Poa pratensis</td>\n",
       "      <td>Kentucky bluegrass</td>\n",
       "      <td>60307</td>\n",
       "    </tr>\n",
       "    <tr>\n",
       "      <th>4</th>\n",
       "      <td>Magnoliopsida</td>\n",
       "      <td>dicots</td>\n",
       "      <td>47124</td>\n",
       "    </tr>\n",
       "  </tbody>\n",
       "</table>\n",
       "</div>"
      ],
      "text/plain": [
       "       scientific_name         common_name taxon_id\n",
       "0  Deidamia inscriptum     Lettered Sphinx   143452\n",
       "1                 Acer              maples    47727\n",
       "2  Plantago lanceolata    ribwort plantain    53178\n",
       "3        Poa pratensis  Kentucky bluegrass    60307\n",
       "4        Magnoliopsida              dicots    47124"
      ]
     },
     "execution_count": 375,
     "metadata": {},
     "output_type": "execute_result"
    }
   ],
   "source": [
    "taxa_path = 'outputs/interactions_taxa_list.csv'\n",
    "taxa_df = pd.read_csv(taxa_path, dtype=str)\n",
    "log_df(taxa_df)"
   ]
  },
  {
   "cell_type": "code",
   "execution_count": 376,
   "id": "b525e45a-40b2-4e60-938c-939a44043357",
   "metadata": {},
   "outputs": [
    {
     "name": "stdout",
     "output_type": "stream",
     "text": [
      "(47856, 7)\n"
     ]
    },
    {
     "data": {
      "text/html": [
       "<div>\n",
       "<style scoped>\n",
       "    .dataframe tbody tr th:only-of-type {\n",
       "        vertical-align: middle;\n",
       "    }\n",
       "\n",
       "    .dataframe tbody tr th {\n",
       "        vertical-align: top;\n",
       "    }\n",
       "\n",
       "    .dataframe thead th {\n",
       "        text-align: right;\n",
       "    }\n",
       "</style>\n",
       "<table border=\"1\" class=\"dataframe\">\n",
       "  <thead>\n",
       "    <tr style=\"text-align: right;\">\n",
       "      <th></th>\n",
       "      <th>subject_taxon_id</th>\n",
       "      <th>subject_common_name</th>\n",
       "      <th>subject_scientific_name</th>\n",
       "      <th>target_scientific_name</th>\n",
       "      <th>target_common_name</th>\n",
       "      <th>target_taxon_id</th>\n",
       "      <th>interaction</th>\n",
       "    </tr>\n",
       "  </thead>\n",
       "  <tbody>\n",
       "    <tr>\n",
       "      <th>0</th>\n",
       "      <td>143452</td>\n",
       "      <td>Lettered Sphinx</td>\n",
       "      <td>Deidamia inscriptum</td>\n",
       "      <td>Parthenocissus</td>\n",
       "      <td>NaN</td>\n",
       "      <td>50280</td>\n",
       "      <td>eats</td>\n",
       "    </tr>\n",
       "    <tr>\n",
       "      <th>1</th>\n",
       "      <td>143452</td>\n",
       "      <td>Lettered Sphinx</td>\n",
       "      <td>Deidamia inscriptum</td>\n",
       "      <td>Vitis</td>\n",
       "      <td>grapevines</td>\n",
       "      <td>60773</td>\n",
       "      <td>eats</td>\n",
       "    </tr>\n",
       "    <tr>\n",
       "      <th>2</th>\n",
       "      <td>143452</td>\n",
       "      <td>Lettered Sphinx</td>\n",
       "      <td>Deidamia inscriptum</td>\n",
       "      <td>Ampelopsis brevipedunculata</td>\n",
       "      <td>porcelain berry</td>\n",
       "      <td>457553</td>\n",
       "      <td>eats</td>\n",
       "    </tr>\n",
       "    <tr>\n",
       "      <th>3</th>\n",
       "      <td>143452</td>\n",
       "      <td>Lettered Sphinx</td>\n",
       "      <td>Deidamia inscriptum</td>\n",
       "      <td>Vitis vinifera</td>\n",
       "      <td>wine grape</td>\n",
       "      <td>79519</td>\n",
       "      <td>eats</td>\n",
       "    </tr>\n",
       "    <tr>\n",
       "      <th>4</th>\n",
       "      <td>143452</td>\n",
       "      <td>Lettered Sphinx</td>\n",
       "      <td>Deidamia inscriptum</td>\n",
       "      <td>Parthenocissus quinquefolia</td>\n",
       "      <td>Virginia creeper</td>\n",
       "      <td>50278</td>\n",
       "      <td>eats</td>\n",
       "    </tr>\n",
       "  </tbody>\n",
       "</table>\n",
       "</div>"
      ],
      "text/plain": [
       "  subject_taxon_id subject_common_name subject_scientific_name  \\\n",
       "0           143452     Lettered Sphinx     Deidamia inscriptum   \n",
       "1           143452     Lettered Sphinx     Deidamia inscriptum   \n",
       "2           143452     Lettered Sphinx     Deidamia inscriptum   \n",
       "3           143452     Lettered Sphinx     Deidamia inscriptum   \n",
       "4           143452     Lettered Sphinx     Deidamia inscriptum   \n",
       "\n",
       "        target_scientific_name target_common_name target_taxon_id interaction  \n",
       "0               Parthenocissus                NaN           50280        eats  \n",
       "1                        Vitis         grapevines           60773        eats  \n",
       "2  Ampelopsis brevipedunculata    porcelain berry          457553        eats  \n",
       "3               Vitis vinifera         wine grape           79519        eats  \n",
       "4  Parthenocissus quinquefolia   Virginia creeper           50278        eats  "
      ]
     },
     "execution_count": 376,
     "metadata": {},
     "output_type": "execute_result"
    }
   ],
   "source": [
    "interaction_path = 'outputs/interactions.csv'\n",
    "interaction_df = pd.read_csv(interaction_path, dtype=str)\n",
    "log_df(interaction_df)"
   ]
  },
  {
   "cell_type": "code",
   "execution_count": 377,
   "id": "93ccc413-6516-474f-a35b-a672b7bd3a7a",
   "metadata": {},
   "outputs": [],
   "source": [
    "def fetchGlobi(taxon_name, interaction):\n",
    "    time.sleep(0.25)\n",
    "    apiBase = 'https://api.globalbioticinteractions.org/taxon'\n",
    "    url = f'{apiBase}/{taxon_name}/{interaction}'\n",
    "    # print(url)\n",
    "    \n",
    "    response = requests.get(url)\n",
    "    if response.status_code == 200:\n",
    "        json_data = response.json()\n",
    "        if len(json_data['data']) > 0:\n",
    "            return json_data['data'][0][2]\n",
    "\n",
    "            \n",
    "def fetchiNat(taxon_name):\n",
    "    if taxon_name.startswith('BOLD:'):\n",
    "        return\n",
    "    if taxon_name.startswith('ORN.'):\n",
    "        return\n",
    "    if taxon_name.startswith('http'):\n",
    "        return\n",
    "    if taxon_name.startswith('various'):\n",
    "        return\n",
    "    if taxon_name.startswith('secretions'):\n",
    "        return\n",
    "\n",
    "    \n",
    "    time.sleep(0.25)\n",
    "    url = f'https://api.inaturalist.org/v1/taxa?q={taxon_name}'\n",
    "    # print(url)\n",
    "    \n",
    "    response = requests.get(url)\n",
    "    if response.status_code == 200:\n",
    "        json_data = response.json()\n",
    "        if len(json_data['results']) > 0:\n",
    "            result =json_data['results'][0]\n",
    "            data = {\n",
    "                'scientific_name': result['name'], \n",
    "                'taxon_id': result['id'], \n",
    "            }\n",
    "            if 'preferred_common_name' in result:\n",
    "                data['common_name'] =  result['preferred_common_name']\n",
    "            else:\n",
    "                data['common_name'] = ''\n",
    "            return data\n",
    "\n",
    "            \n",
    "            \n",
    "def formatInteractions(df, row, interaction, interactionLimit = 3): \n",
    "    interactions = []\n",
    "    not_found_names = []\n",
    "    count = 0\n",
    "    \n",
    "    # connect to Globi api    \n",
    "    names = fetchGlobi(row['scientific_name'], interaction)\n",
    "    if not names:\n",
    "        return\n",
    "    \n",
    "    \n",
    "    # look for Globi taxon name in the existing taxa dataframe     \n",
    "    for name in names:\n",
    "        search_results = df[df['scientific_name'] == name]\n",
    "        if len(search_results) > 0:\n",
    "            interaction_results = {\n",
    "                'subject_taxon_id': row['taxon_id'],\n",
    "                'subject_common_name': row['common_name'],\n",
    "                'subject_scientific_name': row['scientific_name'],\n",
    "\n",
    "                'target_scientific_name': name, \n",
    "                'target_common_name': search_results['common_name'].values[0],\n",
    "                'target_taxon_id': search_results['taxon_id'].values[0],\n",
    "                'interaction': interaction,\n",
    "            }\n",
    "            interactions.append(interaction_results)\n",
    "            count += 1\n",
    "        else:\n",
    "            not_found_names.append(name)\n",
    "            \n",
    "    # if Globi taxon name isn't in taxa dataframe, look up taxon name in iNat api\n",
    "    for name in not_found_names:\n",
    "        if count < interactionLimit:\n",
    "            search_results = fetchiNat(name)\n",
    "            if search_results:\n",
    "                interaction_results = {\n",
    "                    'subject_taxon_id': row['taxon_id'],\n",
    "                    'subject_common_name': row['common_name'],\n",
    "                    'subject_scientific_name': row['scientific_name'],\n",
    "                    \n",
    "                    'target_scientific_name': name, \n",
    "                    'target_common_name': search_results['common_name'],\n",
    "                    'target_taxon_id': search_results['taxon_id'],\n",
    "                    'interaction': interaction,\n",
    "                }\n",
    "                interactions.append(interaction_results)\n",
    "                count += 1\n",
    "                \n",
    "                # add iNat taxa to taxa dataframe\n",
    "                taxon = [ name,  search_results['common_name'],  search_results['taxon_id']]      \n",
    "\n",
    "                df.loc[len(df) + 1] = taxon\n",
    "            else:\n",
    "                taxon = [ name,  '',  '']      \n",
    "                df.loc[len(df) + 1] = taxon\n",
    "                \n",
    "    return interactions\n",
    "\n",
    "        \n",
    "\n"
   ]
  },
  {
   "cell_type": "code",
   "execution_count": 383,
   "id": "0038c66f-73c4-46b1-80de-2b4036ddbcfb",
   "metadata": {},
   "outputs": [],
   "source": [
    "interaction_data = []\n",
    "for index, row in taxa_df.iterrows():\n",
    "    if index % 50 == 0:\n",
    "        print(index, end=' ')\n",
    "        \n",
    "    for interaction in ['eats', 'eatenBy', 'pollinates', 'pollinatedBy', 'preysOn', 'preyedUponBy']:\n",
    "        results = formatInteractions(taxa_df, row, interaction)\n",
    "        if results:\n",
    "            interaction_data += results\n",
    "            \n"
   ]
  },
  {
   "cell_type": "code",
   "execution_count": 381,
   "id": "5514a638-332b-4fbb-b7f0-e9234ae36c66",
   "metadata": {},
   "outputs": [
    {
     "name": "stdout",
     "output_type": "stream",
     "text": [
      "(53859, 7)\n"
     ]
    },
    {
     "data": {
      "text/html": [
       "<div>\n",
       "<style scoped>\n",
       "    .dataframe tbody tr th:only-of-type {\n",
       "        vertical-align: middle;\n",
       "    }\n",
       "\n",
       "    .dataframe tbody tr th {\n",
       "        vertical-align: top;\n",
       "    }\n",
       "\n",
       "    .dataframe thead th {\n",
       "        text-align: right;\n",
       "    }\n",
       "</style>\n",
       "<table border=\"1\" class=\"dataframe\">\n",
       "  <thead>\n",
       "    <tr style=\"text-align: right;\">\n",
       "      <th></th>\n",
       "      <th>subject_taxon_id</th>\n",
       "      <th>subject_common_name</th>\n",
       "      <th>subject_scientific_name</th>\n",
       "      <th>target_scientific_name</th>\n",
       "      <th>target_common_name</th>\n",
       "      <th>target_taxon_id</th>\n",
       "      <th>interaction</th>\n",
       "    </tr>\n",
       "  </thead>\n",
       "  <tbody>\n",
       "    <tr>\n",
       "      <th>0</th>\n",
       "      <td>143452</td>\n",
       "      <td>Lettered Sphinx</td>\n",
       "      <td>Deidamia inscriptum</td>\n",
       "      <td>Parthenocissus</td>\n",
       "      <td>NaN</td>\n",
       "      <td>50280</td>\n",
       "      <td>eats</td>\n",
       "    </tr>\n",
       "    <tr>\n",
       "      <th>1</th>\n",
       "      <td>143452</td>\n",
       "      <td>Lettered Sphinx</td>\n",
       "      <td>Deidamia inscriptum</td>\n",
       "      <td>Vitis</td>\n",
       "      <td>grapevines</td>\n",
       "      <td>60773</td>\n",
       "      <td>eats</td>\n",
       "    </tr>\n",
       "    <tr>\n",
       "      <th>2</th>\n",
       "      <td>143452</td>\n",
       "      <td>Lettered Sphinx</td>\n",
       "      <td>Deidamia inscriptum</td>\n",
       "      <td>Ampelopsis brevipedunculata</td>\n",
       "      <td>porcelain berry</td>\n",
       "      <td>457553</td>\n",
       "      <td>eats</td>\n",
       "    </tr>\n",
       "    <tr>\n",
       "      <th>3</th>\n",
       "      <td>143452</td>\n",
       "      <td>Lettered Sphinx</td>\n",
       "      <td>Deidamia inscriptum</td>\n",
       "      <td>Vitis vinifera</td>\n",
       "      <td>wine grape</td>\n",
       "      <td>79519</td>\n",
       "      <td>eats</td>\n",
       "    </tr>\n",
       "    <tr>\n",
       "      <th>4</th>\n",
       "      <td>143452</td>\n",
       "      <td>Lettered Sphinx</td>\n",
       "      <td>Deidamia inscriptum</td>\n",
       "      <td>Parthenocissus quinquefolia</td>\n",
       "      <td>Virginia creeper</td>\n",
       "      <td>50278</td>\n",
       "      <td>eats</td>\n",
       "    </tr>\n",
       "  </tbody>\n",
       "</table>\n",
       "</div>"
      ],
      "text/plain": [
       "  subject_taxon_id subject_common_name subject_scientific_name  \\\n",
       "0           143452     Lettered Sphinx     Deidamia inscriptum   \n",
       "1           143452     Lettered Sphinx     Deidamia inscriptum   \n",
       "2           143452     Lettered Sphinx     Deidamia inscriptum   \n",
       "3           143452     Lettered Sphinx     Deidamia inscriptum   \n",
       "4           143452     Lettered Sphinx     Deidamia inscriptum   \n",
       "\n",
       "        target_scientific_name target_common_name target_taxon_id interaction  \n",
       "0               Parthenocissus                NaN           50280        eats  \n",
       "1                        Vitis         grapevines           60773        eats  \n",
       "2  Ampelopsis brevipedunculata    porcelain berry          457553        eats  \n",
       "3               Vitis vinifera         wine grape           79519        eats  \n",
       "4  Parthenocissus quinquefolia   Virginia creeper           50278        eats  "
      ]
     },
     "execution_count": 381,
     "metadata": {},
     "output_type": "execute_result"
    }
   ],
   "source": [
    "new_interactions = pd.DataFrame(interaction_data)\n",
    "interaction_df = interaction_df.append(new_interactions)\n",
    "log_df(interaction_df)"
   ]
  },
  {
   "cell_type": "markdown",
   "id": "79b51d52-943c-458d-bfba-35fd9caf25f6",
   "metadata": {},
   "source": [
    "create interactions csv"
   ]
  },
  {
   "cell_type": "code",
   "execution_count": 382,
   "id": "3fec9a82-b389-4bae-bf0e-3619f3d36d9a",
   "metadata": {},
   "outputs": [],
   "source": [
    "interaction_df.to_csv(interaction_path, index=False)\n"
   ]
  },
  {
   "cell_type": "markdown",
   "id": "11da65a6-757f-4256-b774-ff5c136692e4",
   "metadata": {},
   "source": [
    "create interactions json"
   ]
  },
  {
   "cell_type": "code",
   "execution_count": 393,
   "id": "446be109-7ec0-431a-b45a-505ae79d2ba6",
   "metadata": {},
   "outputs": [],
   "source": [
    "cols = [\n",
    "    'subject_taxon_id', \n",
    "    'target_scientific_name', 'target_common_name', 'target_taxon_id',\n",
    "    'interaction'\n",
    "]\n",
    "interaction_json_df = interaction_df[cols]\n",
    "log_df(interaction_json_df)"
   ]
  },
  {
   "cell_type": "code",
   "execution_count": 394,
   "id": "716f656a-9caf-4178-afeb-759373249cf4",
   "metadata": {},
   "outputs": [],
   "source": [
    "path = '../inat_data_explorer/src/lib/data/interactions.json'\n",
    "interaction_json_df.to_json(path, orient = \"records\")"
   ]
  },
  {
   "cell_type": "markdown",
   "id": "5f4ee33d-2bf9-42f9-8ed1-546cc724af49",
   "metadata": {},
   "source": [
    "create taxa csv"
   ]
  },
  {
   "cell_type": "code",
   "execution_count": 379,
   "id": "00f5bbe3-3eb8-47e2-9ca5-8b2be8f48cce",
   "metadata": {},
   "outputs": [
    {
     "name": "stdout",
     "output_type": "stream",
     "text": [
      "(9932, 3)\n"
     ]
    },
    {
     "data": {
      "text/html": [
       "<div>\n",
       "<style scoped>\n",
       "    .dataframe tbody tr th:only-of-type {\n",
       "        vertical-align: middle;\n",
       "    }\n",
       "\n",
       "    .dataframe tbody tr th {\n",
       "        vertical-align: top;\n",
       "    }\n",
       "\n",
       "    .dataframe thead th {\n",
       "        text-align: right;\n",
       "    }\n",
       "</style>\n",
       "<table border=\"1\" class=\"dataframe\">\n",
       "  <thead>\n",
       "    <tr style=\"text-align: right;\">\n",
       "      <th></th>\n",
       "      <th>scientific_name</th>\n",
       "      <th>common_name</th>\n",
       "      <th>taxon_id</th>\n",
       "    </tr>\n",
       "  </thead>\n",
       "  <tbody>\n",
       "    <tr>\n",
       "      <th>0</th>\n",
       "      <td>Deidamia inscriptum</td>\n",
       "      <td>Lettered Sphinx</td>\n",
       "      <td>143452</td>\n",
       "    </tr>\n",
       "    <tr>\n",
       "      <th>1</th>\n",
       "      <td>Acer</td>\n",
       "      <td>maples</td>\n",
       "      <td>47727</td>\n",
       "    </tr>\n",
       "    <tr>\n",
       "      <th>2</th>\n",
       "      <td>Plantago lanceolata</td>\n",
       "      <td>ribwort plantain</td>\n",
       "      <td>53178</td>\n",
       "    </tr>\n",
       "    <tr>\n",
       "      <th>3</th>\n",
       "      <td>Poa pratensis</td>\n",
       "      <td>Kentucky bluegrass</td>\n",
       "      <td>60307</td>\n",
       "    </tr>\n",
       "    <tr>\n",
       "      <th>4</th>\n",
       "      <td>Magnoliopsida</td>\n",
       "      <td>dicots</td>\n",
       "      <td>47124</td>\n",
       "    </tr>\n",
       "  </tbody>\n",
       "</table>\n",
       "</div>"
      ],
      "text/plain": [
       "       scientific_name         common_name taxon_id\n",
       "0  Deidamia inscriptum     Lettered Sphinx   143452\n",
       "1                 Acer              maples    47727\n",
       "2  Plantago lanceolata    ribwort plantain    53178\n",
       "3        Poa pratensis  Kentucky bluegrass    60307\n",
       "4        Magnoliopsida              dicots    47124"
      ]
     },
     "execution_count": 379,
     "metadata": {},
     "output_type": "execute_result"
    }
   ],
   "source": [
    "log_df(taxa_df)"
   ]
  },
  {
   "cell_type": "code",
   "execution_count": 380,
   "id": "482dbc8f-36d8-4382-b432-8da8c2e3e4bb",
   "metadata": {},
   "outputs": [],
   "source": [
    "taxa_df.to_csv(taxa_path, index=False)\n"
   ]
  },
  {
   "cell_type": "code",
   "execution_count": null,
   "id": "abb80457-46c0-424c-a5a2-6d3baa691480",
   "metadata": {},
   "outputs": [],
   "source": []
  }
 ],
 "metadata": {
  "kernelspec": {
   "display_name": "Python 3",
   "language": "python",
   "name": "python3"
  },
  "language_info": {
   "codemirror_mode": {
    "name": "ipython",
    "version": 3
   },
   "file_extension": ".py",
   "mimetype": "text/x-python",
   "name": "python",
   "nbconvert_exporter": "python",
   "pygments_lexer": "ipython3",
   "version": "3.8.2"
  }
 },
 "nbformat": 4,
 "nbformat_minor": 5
}
