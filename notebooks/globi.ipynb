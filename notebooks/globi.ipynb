{
 "cells": [
  {
   "cell_type": "code",
   "execution_count": 16,
   "id": "24bceeb2-59df-4aac-af5f-683f4ba5cd44",
   "metadata": {},
   "outputs": [],
   "source": [
    "import pandas as pd\n",
    "from pathlib import Path\n",
    "import requests\n",
    "import json\n",
    "import time\n",
    "import numpy as np\n",
    "\n",
    "from globi import formatInteractions\n"
   ]
  },
  {
   "cell_type": "code",
   "execution_count": 17,
   "id": "e94ce423-987c-4363-bf6f-865a86d82bd8",
   "metadata": {},
   "outputs": [],
   "source": [
    "def log_df(df, nrows=5):\n",
    "    print(df.shape)\n",
    "    return df.head(nrows)"
   ]
  },
  {
   "cell_type": "code",
   "execution_count": 18,
   "id": "554d929d-04e0-4f14-b657-4b7128bf90f8",
   "metadata": {},
   "outputs": [],
   "source": [
    "def print_json(obj):\n",
    "    print(json.dumps(obj,  indent=4))"
   ]
  },
  {
   "cell_type": "code",
   "execution_count": 19,
   "id": "960e38a2-1e82-4daa-aa65-a44474273f6c",
   "metadata": {},
   "outputs": [
    {
     "name": "stdout",
     "output_type": "stream",
     "text": [
      "[]\n"
     ]
    }
   ],
   "source": [
    "raw_data_paths = Path('../data').rglob('taxa_list.csv')\n",
    "data_paths = [str(path) for path in raw_data_paths]\n",
    "print(data_paths)\n",
    "\n",
    "interaction_path = 'outputs/interactions.csv'\n",
    "de_taxa_path = 'outputs/de_taxa_list.csv'\n",
    "globi_taxa_path = 'outputs/interactions_taxa_list.csv'"
   ]
  },
  {
   "cell_type": "markdown",
   "id": "27ba5b19-b93a-409f-bd82-13cdcde646a2",
   "metadata": {},
   "source": [
    "# interactions"
   ]
  },
  {
   "cell_type": "markdown",
   "id": "77934995-e977-46ff-98b3-f3f37d19d6af",
   "metadata": {},
   "source": [
    "## create interactions taxa csv"
   ]
  },
  {
   "cell_type": "code",
   "execution_count": 17,
   "id": "9fafe339-cf2d-41e5-9f3d-63f4c76f866b",
   "metadata": {},
   "outputs": [
    {
     "name": "stdout",
     "output_type": "stream",
     "text": [
      "(7315, 3)\n"
     ]
    },
    {
     "data": {
      "text/html": [
       "<div>\n",
       "<style scoped>\n",
       "    .dataframe tbody tr th:only-of-type {\n",
       "        vertical-align: middle;\n",
       "    }\n",
       "\n",
       "    .dataframe tbody tr th {\n",
       "        vertical-align: top;\n",
       "    }\n",
       "\n",
       "    .dataframe thead th {\n",
       "        text-align: right;\n",
       "    }\n",
       "</style>\n",
       "<table border=\"1\" class=\"dataframe\">\n",
       "  <thead>\n",
       "    <tr style=\"text-align: right;\">\n",
       "      <th></th>\n",
       "      <th>taxon_id</th>\n",
       "      <th>common_name</th>\n",
       "      <th>scientific_name</th>\n",
       "    </tr>\n",
       "  </thead>\n",
       "  <tbody>\n",
       "    <tr>\n",
       "      <th>0</th>\n",
       "      <td>1</td>\n",
       "      <td>Animals</td>\n",
       "      <td>Animalia</td>\n",
       "    </tr>\n",
       "    <tr>\n",
       "      <th>1</th>\n",
       "      <td>47534</td>\n",
       "      <td>Cnidarians</td>\n",
       "      <td>Cnidaria</td>\n",
       "    </tr>\n",
       "    <tr>\n",
       "      <th>2</th>\n",
       "      <td>48921</td>\n",
       "      <td>Hydrozoans</td>\n",
       "      <td>Hydrozoa</td>\n",
       "    </tr>\n",
       "    <tr>\n",
       "      <th>3</th>\n",
       "      <td>152823</td>\n",
       "      <td>Siphonophores</td>\n",
       "      <td>Siphonophorae</td>\n",
       "    </tr>\n",
       "    <tr>\n",
       "      <th>4</th>\n",
       "      <td>117304</td>\n",
       "      <td>Man O' Wars</td>\n",
       "      <td>Physaliidae</td>\n",
       "    </tr>\n",
       "  </tbody>\n",
       "</table>\n",
       "</div>"
      ],
      "text/plain": [
       "  taxon_id    common_name scientific_name\n",
       "0        1        Animals        Animalia\n",
       "1    47534     Cnidarians        Cnidaria\n",
       "2    48921     Hydrozoans        Hydrozoa\n",
       "3   152823  Siphonophores   Siphonophorae\n",
       "4   117304    Man O' Wars     Physaliidae"
      ]
     },
     "execution_count": 17,
     "metadata": {},
     "output_type": "execute_result"
    }
   ],
   "source": [
    "cols = ['scientific_name', 'common_name', 'taxon_id']\n",
    "taxa_df = pd.read_csv(de_taxa_path, dtype=str, usecols=cols)\n",
    "log_df(taxa_df)\n"
   ]
  },
  {
   "cell_type": "code",
   "execution_count": 18,
   "id": "5a9f0f32-fdfd-4620-bc98-3bf3b99aa6aa",
   "metadata": {},
   "outputs": [
    {
     "name": "stdout",
     "output_type": "stream",
     "text": [
      "(7510, 4)\n"
     ]
    },
    {
     "data": {
      "text/html": [
       "<div>\n",
       "<style scoped>\n",
       "    .dataframe tbody tr th:only-of-type {\n",
       "        vertical-align: middle;\n",
       "    }\n",
       "\n",
       "    .dataframe tbody tr th {\n",
       "        vertical-align: top;\n",
       "    }\n",
       "\n",
       "    .dataframe thead th {\n",
       "        text-align: right;\n",
       "    }\n",
       "</style>\n",
       "<table border=\"1\" class=\"dataframe\">\n",
       "  <thead>\n",
       "    <tr style=\"text-align: right;\">\n",
       "      <th></th>\n",
       "      <th>taxon_id</th>\n",
       "      <th>common_name</th>\n",
       "      <th>scientific_name</th>\n",
       "      <th>has_globi</th>\n",
       "    </tr>\n",
       "  </thead>\n",
       "  <tbody>\n",
       "    <tr>\n",
       "      <th>0</th>\n",
       "      <td>143452</td>\n",
       "      <td>Lettered Sphinx</td>\n",
       "      <td>Deidamia inscriptum</td>\n",
       "      <td>True</td>\n",
       "    </tr>\n",
       "    <tr>\n",
       "      <th>10</th>\n",
       "      <td>47727</td>\n",
       "      <td>maples</td>\n",
       "      <td>Acer</td>\n",
       "      <td>True</td>\n",
       "    </tr>\n",
       "    <tr>\n",
       "      <th>18</th>\n",
       "      <td>53178</td>\n",
       "      <td>ribwort plantain</td>\n",
       "      <td>Plantago lanceolata</td>\n",
       "      <td>True</td>\n",
       "    </tr>\n",
       "    <tr>\n",
       "      <th>26</th>\n",
       "      <td>60307</td>\n",
       "      <td>Kentucky bluegrass</td>\n",
       "      <td>Poa pratensis</td>\n",
       "      <td>True</td>\n",
       "    </tr>\n",
       "    <tr>\n",
       "      <th>47</th>\n",
       "      <td>47124</td>\n",
       "      <td>dicots</td>\n",
       "      <td>Magnoliopsida</td>\n",
       "      <td>True</td>\n",
       "    </tr>\n",
       "  </tbody>\n",
       "</table>\n",
       "</div>"
      ],
      "text/plain": [
       "   taxon_id         common_name      scientific_name  has_globi\n",
       "0    143452     Lettered Sphinx  Deidamia inscriptum       True\n",
       "10    47727              maples                 Acer       True\n",
       "18    53178    ribwort plantain  Plantago lanceolata       True\n",
       "26    60307  Kentucky bluegrass        Poa pratensis       True\n",
       "47    47124              dicots        Magnoliopsida       True"
      ]
     },
     "execution_count": 18,
     "metadata": {},
     "output_type": "execute_result"
    }
   ],
   "source": [
    "cols = ['subject_taxon_id', 'subject_common_name', 'subject_scientific_name']\n",
    "interactions_df = pd.read_csv(interaction_path, dtype=str, usecols=cols)\n",
    "interactions_df.drop_duplicates(inplace=True)\n",
    "\n",
    "interactions_df.rename(columns = {\n",
    "    'subject_taxon_id': 'taxon_id', \n",
    "    'subject_common_name': 'common_name', \n",
    "    'subject_scientific_name': 'scientific_name'\n",
    "}, inplace=True)\n",
    "\n",
    "interactions_df['has_globi'] = True\n",
    "\n",
    "log_df(interactions_df)"
   ]
  },
  {
   "cell_type": "code",
   "execution_count": 10,
   "id": "23b2dacf-5eed-4bdf-baa5-9c323858c28c",
   "metadata": {},
   "outputs": [
    {
     "name": "stdout",
     "output_type": "stream",
     "text": [
      "(7315, 4)\n"
     ]
    },
    {
     "data": {
      "text/html": [
       "<div>\n",
       "<style scoped>\n",
       "    .dataframe tbody tr th:only-of-type {\n",
       "        vertical-align: middle;\n",
       "    }\n",
       "\n",
       "    .dataframe tbody tr th {\n",
       "        vertical-align: top;\n",
       "    }\n",
       "\n",
       "    .dataframe thead th {\n",
       "        text-align: right;\n",
       "    }\n",
       "</style>\n",
       "<table border=\"1\" class=\"dataframe\">\n",
       "  <thead>\n",
       "    <tr style=\"text-align: right;\">\n",
       "      <th></th>\n",
       "      <th>taxon_id</th>\n",
       "      <th>common_name</th>\n",
       "      <th>scientific_name</th>\n",
       "      <th>has_globi</th>\n",
       "    </tr>\n",
       "  </thead>\n",
       "  <tbody>\n",
       "    <tr>\n",
       "      <th>0</th>\n",
       "      <td>1</td>\n",
       "      <td>Animals</td>\n",
       "      <td>Animalia</td>\n",
       "      <td>True</td>\n",
       "    </tr>\n",
       "    <tr>\n",
       "      <th>1</th>\n",
       "      <td>47534</td>\n",
       "      <td>Cnidarians</td>\n",
       "      <td>Cnidaria</td>\n",
       "      <td>True</td>\n",
       "    </tr>\n",
       "    <tr>\n",
       "      <th>2</th>\n",
       "      <td>48921</td>\n",
       "      <td>Hydrozoans</td>\n",
       "      <td>Hydrozoa</td>\n",
       "      <td>True</td>\n",
       "    </tr>\n",
       "    <tr>\n",
       "      <th>3</th>\n",
       "      <td>152823</td>\n",
       "      <td>Siphonophores</td>\n",
       "      <td>Siphonophorae</td>\n",
       "      <td>True</td>\n",
       "    </tr>\n",
       "    <tr>\n",
       "      <th>4</th>\n",
       "      <td>117304</td>\n",
       "      <td>Man O' Wars</td>\n",
       "      <td>Physaliidae</td>\n",
       "      <td>True</td>\n",
       "    </tr>\n",
       "  </tbody>\n",
       "</table>\n",
       "</div>"
      ],
      "text/plain": [
       "  taxon_id    common_name scientific_name has_globi\n",
       "0        1        Animals        Animalia      True\n",
       "1    47534     Cnidarians        Cnidaria      True\n",
       "2    48921     Hydrozoans        Hydrozoa      True\n",
       "3   152823  Siphonophores   Siphonophorae      True\n",
       "4   117304    Man O' Wars     Physaliidae      True"
      ]
     },
     "execution_count": 10,
     "metadata": {},
     "output_type": "execute_result"
    }
   ],
   "source": [
    "updated_globi_taxa = taxa_df.merge(interactions_df, how=\"left\" )\n",
    "log_df(updated_globi_taxa)"
   ]
  },
  {
   "cell_type": "code",
   "execution_count": 11,
   "id": "5cc51824-3b98-4913-afc4-400ee42eb411",
   "metadata": {},
   "outputs": [],
   "source": [
    "updated_globi_taxa.to_csv(globi_taxa_path, index=False)"
   ]
  },
  {
   "cell_type": "code",
   "execution_count": null,
   "id": "8ec5fb2b-1cf9-4fda-9660-d0e5314ea88c",
   "metadata": {},
   "outputs": [],
   "source": []
  },
  {
   "cell_type": "markdown",
   "id": "bef829be-39cc-4a8d-8b8b-702158970d46",
   "metadata": {},
   "source": [
    "## create interactions"
   ]
  },
  {
   "cell_type": "code",
   "execution_count": 12,
   "id": "17a47f7b-61a0-45cd-862c-8bb770f584ee",
   "metadata": {},
   "outputs": [
    {
     "name": "stdout",
     "output_type": "stream",
     "text": [
      "(7315, 3)\n"
     ]
    },
    {
     "data": {
      "text/html": [
       "<div>\n",
       "<style scoped>\n",
       "    .dataframe tbody tr th:only-of-type {\n",
       "        vertical-align: middle;\n",
       "    }\n",
       "\n",
       "    .dataframe tbody tr th {\n",
       "        vertical-align: top;\n",
       "    }\n",
       "\n",
       "    .dataframe thead th {\n",
       "        text-align: right;\n",
       "    }\n",
       "</style>\n",
       "<table border=\"1\" class=\"dataframe\">\n",
       "  <thead>\n",
       "    <tr style=\"text-align: right;\">\n",
       "      <th></th>\n",
       "      <th>taxon_id</th>\n",
       "      <th>common_name</th>\n",
       "      <th>scientific_name</th>\n",
       "    </tr>\n",
       "  </thead>\n",
       "  <tbody>\n",
       "    <tr>\n",
       "      <th>0</th>\n",
       "      <td>1</td>\n",
       "      <td>Animals</td>\n",
       "      <td>Animalia</td>\n",
       "    </tr>\n",
       "    <tr>\n",
       "      <th>1</th>\n",
       "      <td>47534</td>\n",
       "      <td>Cnidarians</td>\n",
       "      <td>Cnidaria</td>\n",
       "    </tr>\n",
       "    <tr>\n",
       "      <th>2</th>\n",
       "      <td>48921</td>\n",
       "      <td>Hydrozoans</td>\n",
       "      <td>Hydrozoa</td>\n",
       "    </tr>\n",
       "    <tr>\n",
       "      <th>3</th>\n",
       "      <td>152823</td>\n",
       "      <td>Siphonophores</td>\n",
       "      <td>Siphonophorae</td>\n",
       "    </tr>\n",
       "    <tr>\n",
       "      <th>4</th>\n",
       "      <td>117304</td>\n",
       "      <td>Man O' Wars</td>\n",
       "      <td>Physaliidae</td>\n",
       "    </tr>\n",
       "  </tbody>\n",
       "</table>\n",
       "</div>"
      ],
      "text/plain": [
       "  taxon_id    common_name scientific_name\n",
       "0        1        Animals        Animalia\n",
       "1    47534     Cnidarians        Cnidaria\n",
       "2    48921     Hydrozoans        Hydrozoa\n",
       "3   152823  Siphonophores   Siphonophorae\n",
       "4   117304    Man O' Wars     Physaliidae"
      ]
     },
     "execution_count": 5,
     "metadata": {},
     "output_type": "execute_result"
    }
   ],
   "source": [
    "cols = ['scientific_name', 'common_name', 'taxon_id']\n",
    "taxa_df = pd.read_csv(de_taxa_path, dtype=str, usecols=cols)\n",
    "log_df(taxa_df)"
   ]
  },
  {
   "cell_type": "code",
   "execution_count": 10,
   "id": "499fb1c8-9c87-499f-bc70-b02f7a26e856",
   "metadata": {},
   "outputs": [
    {
     "name": "stdout",
     "output_type": "stream",
     "text": [
      "(3786, 4)\n"
     ]
    },
    {
     "data": {
      "text/html": [
       "<div>\n",
       "<style scoped>\n",
       "    .dataframe tbody tr th:only-of-type {\n",
       "        vertical-align: middle;\n",
       "    }\n",
       "\n",
       "    .dataframe tbody tr th {\n",
       "        vertical-align: top;\n",
       "    }\n",
       "\n",
       "    .dataframe thead th {\n",
       "        text-align: right;\n",
       "    }\n",
       "</style>\n",
       "<table border=\"1\" class=\"dataframe\">\n",
       "  <thead>\n",
       "    <tr style=\"text-align: right;\">\n",
       "      <th></th>\n",
       "      <th>taxon_id</th>\n",
       "      <th>common_name</th>\n",
       "      <th>scientific_name</th>\n",
       "      <th>has_globi</th>\n",
       "    </tr>\n",
       "  </thead>\n",
       "  <tbody>\n",
       "    <tr>\n",
       "      <th>6</th>\n",
       "      <td>117302</td>\n",
       "      <td>Portuguese Man o' War</td>\n",
       "      <td>Physalia physalis</td>\n",
       "      <td>NaN</td>\n",
       "    </tr>\n",
       "    <tr>\n",
       "      <th>11</th>\n",
       "      <td>986245</td>\n",
       "      <td>Southern Moon Jelly</td>\n",
       "      <td>Aurelia marginalis</td>\n",
       "      <td>NaN</td>\n",
       "    </tr>\n",
       "    <tr>\n",
       "      <th>16</th>\n",
       "      <td>83415</td>\n",
       "      <td>Black Jelly</td>\n",
       "      <td>Chrysaora achlyos</td>\n",
       "      <td>NaN</td>\n",
       "    </tr>\n",
       "    <tr>\n",
       "      <th>41</th>\n",
       "      <td>370954</td>\n",
       "      <td>Giant Salp</td>\n",
       "      <td>Pyrostremma spinosum</td>\n",
       "      <td>NaN</td>\n",
       "    </tr>\n",
       "    <tr>\n",
       "      <th>51</th>\n",
       "      <td>432549</td>\n",
       "      <td>Robson's Blanket Octopus</td>\n",
       "      <td>Tremoctopus robsoni</td>\n",
       "      <td>NaN</td>\n",
       "    </tr>\n",
       "  </tbody>\n",
       "</table>\n",
       "</div>"
      ],
      "text/plain": [
       "   taxon_id               common_name       scientific_name has_globi\n",
       "6    117302     Portuguese Man o' War     Physalia physalis       NaN\n",
       "11   986245       Southern Moon Jelly    Aurelia marginalis       NaN\n",
       "16    83415               Black Jelly     Chrysaora achlyos       NaN\n",
       "41   370954                Giant Salp  Pyrostremma spinosum       NaN\n",
       "51   432549  Robson's Blanket Octopus   Tremoctopus robsoni       NaN"
      ]
     },
     "execution_count": 10,
     "metadata": {},
     "output_type": "execute_result"
    }
   ],
   "source": [
    "globi_taxa_df = pd.read_csv(globi_taxa_path, dtype=str)\n",
    "globi_taxa_df = globi_taxa_df[globi_taxa_df['has_globi'].isna()]\n",
    "log_df(globi_taxa_df)"
   ]
  },
  {
   "cell_type": "code",
   "execution_count": 11,
   "id": "b525e45a-40b2-4e60-938c-939a44043357",
   "metadata": {},
   "outputs": [
    {
     "name": "stdout",
     "output_type": "stream",
     "text": [
      "(61213, 7)\n"
     ]
    },
    {
     "data": {
      "text/html": [
       "<div>\n",
       "<style scoped>\n",
       "    .dataframe tbody tr th:only-of-type {\n",
       "        vertical-align: middle;\n",
       "    }\n",
       "\n",
       "    .dataframe tbody tr th {\n",
       "        vertical-align: top;\n",
       "    }\n",
       "\n",
       "    .dataframe thead th {\n",
       "        text-align: right;\n",
       "    }\n",
       "</style>\n",
       "<table border=\"1\" class=\"dataframe\">\n",
       "  <thead>\n",
       "    <tr style=\"text-align: right;\">\n",
       "      <th></th>\n",
       "      <th>subject_taxon_id</th>\n",
       "      <th>subject_common_name</th>\n",
       "      <th>subject_scientific_name</th>\n",
       "      <th>target_scientific_name</th>\n",
       "      <th>target_common_name</th>\n",
       "      <th>target_taxon_id</th>\n",
       "      <th>interaction</th>\n",
       "    </tr>\n",
       "  </thead>\n",
       "  <tbody>\n",
       "    <tr>\n",
       "      <th>0</th>\n",
       "      <td>143452</td>\n",
       "      <td>Lettered Sphinx</td>\n",
       "      <td>Deidamia inscriptum</td>\n",
       "      <td>Parthenocissus</td>\n",
       "      <td>NaN</td>\n",
       "      <td>50280</td>\n",
       "      <td>eats</td>\n",
       "    </tr>\n",
       "    <tr>\n",
       "      <th>1</th>\n",
       "      <td>143452</td>\n",
       "      <td>Lettered Sphinx</td>\n",
       "      <td>Deidamia inscriptum</td>\n",
       "      <td>Vitis</td>\n",
       "      <td>grapevines</td>\n",
       "      <td>60773</td>\n",
       "      <td>eats</td>\n",
       "    </tr>\n",
       "    <tr>\n",
       "      <th>2</th>\n",
       "      <td>143452</td>\n",
       "      <td>Lettered Sphinx</td>\n",
       "      <td>Deidamia inscriptum</td>\n",
       "      <td>Ampelopsis brevipedunculata</td>\n",
       "      <td>porcelain berry</td>\n",
       "      <td>457553</td>\n",
       "      <td>eats</td>\n",
       "    </tr>\n",
       "    <tr>\n",
       "      <th>3</th>\n",
       "      <td>143452</td>\n",
       "      <td>Lettered Sphinx</td>\n",
       "      <td>Deidamia inscriptum</td>\n",
       "      <td>Vitis vinifera</td>\n",
       "      <td>wine grape</td>\n",
       "      <td>79519</td>\n",
       "      <td>eats</td>\n",
       "    </tr>\n",
       "    <tr>\n",
       "      <th>4</th>\n",
       "      <td>143452</td>\n",
       "      <td>Lettered Sphinx</td>\n",
       "      <td>Deidamia inscriptum</td>\n",
       "      <td>Parthenocissus quinquefolia</td>\n",
       "      <td>Virginia creeper</td>\n",
       "      <td>50278</td>\n",
       "      <td>eats</td>\n",
       "    </tr>\n",
       "  </tbody>\n",
       "</table>\n",
       "</div>"
      ],
      "text/plain": [
       "  subject_taxon_id subject_common_name subject_scientific_name  \\\n",
       "0           143452     Lettered Sphinx     Deidamia inscriptum   \n",
       "1           143452     Lettered Sphinx     Deidamia inscriptum   \n",
       "2           143452     Lettered Sphinx     Deidamia inscriptum   \n",
       "3           143452     Lettered Sphinx     Deidamia inscriptum   \n",
       "4           143452     Lettered Sphinx     Deidamia inscriptum   \n",
       "\n",
       "        target_scientific_name target_common_name target_taxon_id interaction  \n",
       "0               Parthenocissus                NaN           50280        eats  \n",
       "1                        Vitis         grapevines           60773        eats  \n",
       "2  Ampelopsis brevipedunculata    porcelain berry          457553        eats  \n",
       "3               Vitis vinifera         wine grape           79519        eats  \n",
       "4  Parthenocissus quinquefolia   Virginia creeper           50278        eats  "
      ]
     },
     "execution_count": 11,
     "metadata": {},
     "output_type": "execute_result"
    }
   ],
   "source": [
    "interaction_path = 'outputs/interactions.csv'\n",
    "interaction_df = pd.read_csv(interaction_path, dtype=str)\n",
    "log_df(interaction_df)"
   ]
  },
  {
   "cell_type": "code",
   "execution_count": 12,
   "id": "0038c66f-73c4-46b1-80de-2b4036ddbcfb",
   "metadata": {},
   "outputs": [
    {
     "name": "stdout",
     "output_type": "stream",
     "text": [
      "0 10 20 30 40 50 60 70 80 90 100 110 120 130 140 150 160 170 180 190 200 210 220 230 240 250 260 270 280 290 300 310 320 330 340 350 360 370 380 390 400 410 420 430 440 450 460 470 480 490 500 510 520 530 540 550 560 570 580 590 600 610 620 630 640 650 660 670 680 690 700 710 720 730 740 750 760 770 780 790 800 810 820 830 840 850 860 870 880 890 900 910 920 930 940 950 960 970 980 990 1000 1010 1020 1030 1040 1050 1060 1070 1080 1090 1100 1110 1120 1130 1140 1150 1160 1170 1180 1190 1200 1210 1220 1230 1240 1250 1260 1270 1280 1290 1300 1310 1320 1330 1340 1350 1360 1370 1380 1390 1400 1410 1420 1430 1440 1450 1460 1470 1480 1490 1500 1510 1520 1530 1540 1550 1560 1570 1580 1590 1600 1610 1620 1630 1640 1650 1660 1670 1680 1690 1700 1710 1720 1730 1740 1750 1760 1770 1780 1790 1800 1810 1820 1830 1840 1850 1860 1870 1880 1890 1900 1910 1920 1930 1940 1950 1960 1970 1980 1990 2000 2010 2020 2030 2040 2050 2060 2070 2080 2090 2100 2110 2120 2130 2140 2150 2160 2170 2180 2190 2200 2210 2220 2230 2240 2250 2260 2270 2280 2290 2300 2310 2320 2330 2340 2350 2360 2370 2380 2390 2400 2410 2420 2430 2440 2450 2460 2470 2480 2490 2500 2510 2520 2530 2540 2550 2560 2570 2580 2590 2600 2610 2620 2630 2640 2650 2660 2670 2680 2690 2700 2710 2720 2730 2740 2750 2760 2770 2780 2790 2800 2810 2820 2830 2840 2850 2860 2870 2880 2890 2900 2910 2920 2930 2940 2950 2960 2970 2980 2990 3000 3010 3020 3030 3040 3050 3060 3070 3080 3090 3100 3110 3120 3130 3140 3150 3160 3170 3180 3190 3200 3210 3220 3230 3240 3250 3260 3270 3280 3290 3300 3310 3320 3330 3340 3350 3360 3370 3380 3390 3400 3410 3420 3430 3440 3450 3460 3470 3480 3490 3500 3510 3520 3530 3540 3550 3560 3570 3580 3590 3600 3610 3620 3630 3640 3650 3660 3670 3680 3690 3700 3710 3720 3730 3740 3750 3760 3770 3780 "
     ]
    }
   ],
   "source": [
    "interaction_data = []\n",
    "count = 0\n",
    "for index, row in globi_taxa_df.iterrows():\n",
    "    if count % 10 == 0:\n",
    "        print(count, end=' ')\n",
    "        \n",
    "    for interaction in ['eats', 'eatenBy', 'pollinates', 'pollinatedBy', 'preysOn', 'preyedUponBy']:\n",
    "        results = formatInteractions(taxa_df, row, interaction, 100)\n",
    "        if results:\n",
    "            interaction_data += results\n",
    "            \n",
    "    count += 1\n",
    "            \n"
   ]
  },
  {
   "cell_type": "code",
   "execution_count": 13,
   "id": "5514a638-332b-4fbb-b7f0-e9234ae36c66",
   "metadata": {},
   "outputs": [
    {
     "name": "stdout",
     "output_type": "stream",
     "text": [
      "(137075, 7)\n"
     ]
    },
    {
     "data": {
      "text/html": [
       "<div>\n",
       "<style scoped>\n",
       "    .dataframe tbody tr th:only-of-type {\n",
       "        vertical-align: middle;\n",
       "    }\n",
       "\n",
       "    .dataframe tbody tr th {\n",
       "        vertical-align: top;\n",
       "    }\n",
       "\n",
       "    .dataframe thead th {\n",
       "        text-align: right;\n",
       "    }\n",
       "</style>\n",
       "<table border=\"1\" class=\"dataframe\">\n",
       "  <thead>\n",
       "    <tr style=\"text-align: right;\">\n",
       "      <th></th>\n",
       "      <th>subject_taxon_id</th>\n",
       "      <th>subject_common_name</th>\n",
       "      <th>subject_scientific_name</th>\n",
       "      <th>target_scientific_name</th>\n",
       "      <th>target_common_name</th>\n",
       "      <th>target_taxon_id</th>\n",
       "      <th>interaction</th>\n",
       "    </tr>\n",
       "  </thead>\n",
       "  <tbody>\n",
       "    <tr>\n",
       "      <th>0</th>\n",
       "      <td>143452</td>\n",
       "      <td>Lettered Sphinx</td>\n",
       "      <td>Deidamia inscriptum</td>\n",
       "      <td>Parthenocissus</td>\n",
       "      <td>NaN</td>\n",
       "      <td>50280</td>\n",
       "      <td>eats</td>\n",
       "    </tr>\n",
       "    <tr>\n",
       "      <th>1</th>\n",
       "      <td>143452</td>\n",
       "      <td>Lettered Sphinx</td>\n",
       "      <td>Deidamia inscriptum</td>\n",
       "      <td>Vitis</td>\n",
       "      <td>grapevines</td>\n",
       "      <td>60773</td>\n",
       "      <td>eats</td>\n",
       "    </tr>\n",
       "    <tr>\n",
       "      <th>2</th>\n",
       "      <td>143452</td>\n",
       "      <td>Lettered Sphinx</td>\n",
       "      <td>Deidamia inscriptum</td>\n",
       "      <td>Ampelopsis brevipedunculata</td>\n",
       "      <td>porcelain berry</td>\n",
       "      <td>457553</td>\n",
       "      <td>eats</td>\n",
       "    </tr>\n",
       "    <tr>\n",
       "      <th>3</th>\n",
       "      <td>143452</td>\n",
       "      <td>Lettered Sphinx</td>\n",
       "      <td>Deidamia inscriptum</td>\n",
       "      <td>Vitis vinifera</td>\n",
       "      <td>wine grape</td>\n",
       "      <td>79519</td>\n",
       "      <td>eats</td>\n",
       "    </tr>\n",
       "    <tr>\n",
       "      <th>4</th>\n",
       "      <td>143452</td>\n",
       "      <td>Lettered Sphinx</td>\n",
       "      <td>Deidamia inscriptum</td>\n",
       "      <td>Parthenocissus quinquefolia</td>\n",
       "      <td>Virginia creeper</td>\n",
       "      <td>50278</td>\n",
       "      <td>eats</td>\n",
       "    </tr>\n",
       "  </tbody>\n",
       "</table>\n",
       "</div>"
      ],
      "text/plain": [
       "  subject_taxon_id subject_common_name subject_scientific_name  \\\n",
       "0           143452     Lettered Sphinx     Deidamia inscriptum   \n",
       "1           143452     Lettered Sphinx     Deidamia inscriptum   \n",
       "2           143452     Lettered Sphinx     Deidamia inscriptum   \n",
       "3           143452     Lettered Sphinx     Deidamia inscriptum   \n",
       "4           143452     Lettered Sphinx     Deidamia inscriptum   \n",
       "\n",
       "        target_scientific_name target_common_name target_taxon_id interaction  \n",
       "0               Parthenocissus                NaN           50280        eats  \n",
       "1                        Vitis         grapevines           60773        eats  \n",
       "2  Ampelopsis brevipedunculata    porcelain berry          457553        eats  \n",
       "3               Vitis vinifera         wine grape           79519        eats  \n",
       "4  Parthenocissus quinquefolia   Virginia creeper           50278        eats  "
      ]
     },
     "execution_count": 13,
     "metadata": {},
     "output_type": "execute_result"
    }
   ],
   "source": [
    "new_interactions = pd.DataFrame(interaction_data)\n",
    "interaction_df = interaction_df.append(new_interactions)\n",
    "log_df(interaction_df)"
   ]
  },
  {
   "cell_type": "markdown",
   "id": "79b51d52-943c-458d-bfba-35fd9caf25f6",
   "metadata": {},
   "source": [
    "create interactions csv"
   ]
  },
  {
   "cell_type": "code",
   "execution_count": 14,
   "id": "3fec9a82-b389-4bae-bf0e-3619f3d36d9a",
   "metadata": {},
   "outputs": [],
   "source": [
    "interaction_df.to_csv(interaction_path, index=False)\n"
   ]
  },
  {
   "cell_type": "markdown",
   "id": "2234b86c-a85a-41bb-a69b-9cebf7e025f7",
   "metadata": {},
   "source": [
    "### add inat common name and taxon id to Globi scientific names"
   ]
  },
  {
   "cell_type": "code",
   "execution_count": null,
   "id": "6cc92bd2-6a3f-4520-a7a9-49d87b68a5ce",
   "metadata": {},
   "outputs": [],
   "source": []
  },
  {
   "cell_type": "markdown",
   "id": "11da65a6-757f-4256-b774-ff5c136692e4",
   "metadata": {},
   "source": [
    "create interactions json"
   ]
  },
  {
   "cell_type": "code",
   "execution_count": 10,
   "id": "abb80457-46c0-424c-a5a2-6d3baa691480",
   "metadata": {},
   "outputs": [],
   "source": [
    "\n",
    "path = '../app/src/lib/data/interactions.csv'\n",
    "interaction_df.to_csv(path, index = False)"
   ]
  },
  {
   "cell_type": "code",
   "execution_count": null,
   "id": "a0300535-9b04-45b5-8fe4-9a8c82de7fe6",
   "metadata": {},
   "outputs": [],
   "source": []
  }
 ],
 "metadata": {
  "kernelspec": {
   "display_name": "Python 3",
   "language": "python",
   "name": "python3"
  },
  "language_info": {
   "codemirror_mode": {
    "name": "ipython",
    "version": 3
   },
   "file_extension": ".py",
   "mimetype": "text/x-python",
   "name": "python",
   "nbconvert_exporter": "python",
   "pygments_lexer": "ipython3",
   "version": "3.8.2"
  }
 },
 "nbformat": 4,
 "nbformat_minor": 5
}
