{
 "cells": [
  {
   "cell_type": "code",
   "execution_count": 9,
   "id": "c1a09b96-2cb8-41f5-953c-bfa54227de94",
   "metadata": {},
   "outputs": [],
   "source": [
    "import mammoth\n",
    "from pathlib import Path"
   ]
  },
  {
   "cell_type": "code",
   "execution_count": 14,
   "id": "e39d60b4-182e-4daf-8d97-e6aaa6034849",
   "metadata": {},
   "outputs": [],
   "source": [
    "def convert_docx(input_path, output_path):\n",
    "    with open(input_path, \"rb\") as docx_file:\n",
    "        result = mammoth.convert_to_markdown(docx_file)\n",
    "        markdown = result.value \n",
    "\n",
    "\n",
    "    with open(output_path, \"w\") as file:\n",
    "        file.write(markdown)\n"
   ]
  },
  {
   "cell_type": "markdown",
   "id": "4a70d6ba-f90b-4353-a053-7a513cc77109",
   "metadata": {},
   "source": [
    "# cedar creek"
   ]
  },
  {
   "cell_type": "code",
   "execution_count": 15,
   "id": "7ceda541-2e72-440b-bf98-d6bbb923d122",
   "metadata": {},
   "outputs": [],
   "source": [
    "input_path = Path('..', 'data', 'cedar-creek-reserve', 'Cedar Creek front text.docx')\n",
    "output_path = Path('..','app', 'src', 'lib', 'data','cedar-creek-reserve', 'about.md') \n",
    "\n",
    "convert_docx(input_path, output_path)"
   ]
  },
  {
   "cell_type": "code",
   "execution_count": null,
   "id": "7d467e71-cf3c-4241-a804-2102b2659617",
   "metadata": {},
   "outputs": [],
   "source": []
  }
 ],
 "metadata": {
  "kernelspec": {
   "display_name": "Python 3",
   "language": "python",
   "name": "python3"
  },
  "language_info": {
   "codemirror_mode": {
    "name": "ipython",
    "version": 3
   },
   "file_extension": ".py",
   "mimetype": "text/x-python",
   "name": "python",
   "nbconvert_exporter": "python",
   "pygments_lexer": "ipython3",
   "version": "3.8.2"
  }
 },
 "nbformat": 4,
 "nbformat_minor": 5
}
